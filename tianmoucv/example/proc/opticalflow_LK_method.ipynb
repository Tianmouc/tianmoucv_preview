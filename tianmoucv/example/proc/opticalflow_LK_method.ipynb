{
 "cells": [
  {
   "cell_type": "markdown",
   "id": "5d80d015",
   "metadata": {},
   "source": [
    "# 基于LK方法的实时光流计算\n",
    "\n",
    "## 这个示例展示一个在AOP上运行的LK方法\n",
    "\n",
    "调用接口：\n",
    "- tianmoucv.proc.opticalflow.LK_optical_flow\n"
   ]
  },
  {
   "cell_type": "code",
   "execution_count": null,
   "id": "5d3a1b89",
   "metadata": {},
   "outputs": [],
   "source": [
    "%load_ext autoreload"
   ]
  },
  {
   "cell_type": "markdown",
   "id": "31f53079",
   "metadata": {},
   "source": [
    "## 引入必要的包"
   ]
  },
  {
   "cell_type": "code",
   "execution_count": null,
   "id": "59440d08-8a2c-4dff-9787-edde46db50ae",
   "metadata": {},
   "outputs": [],
   "source": [
    "%autoreload\n",
    "import sys\n",
    "import numpy as np\n",
    "import os\n",
    "import cv2\n",
    "import matplotlib.pyplot as plt\n",
    "import torch\n",
    "import torch.nn.functional as F\n",
    "import math\n",
    "from tianmoucv.data import TianmoucDataReader\n"
   ]
  },
  {
   "cell_type": "markdown",
   "id": "017320b1-a4bc-41aa-be55-a4bffbfdea3c",
   "metadata": {},
   "source": [
    "## 数据构造"
   ]
  },
  {
   "cell_type": "code",
   "execution_count": null,
   "id": "923c74b4",
   "metadata": {
    "scrolled": true
   },
   "outputs": [],
   "source": [
    "train='/data/lyh/tianmoucData/tianmoucReconDataset/train/'\n",
    "dirlist = os.listdir(train)\n",
    "traindata = [train + e for e in dirlist]\n",
    "\n",
    "val='/data/lyh/tianmoucData/tianmoucReconDataset/test/'\n",
    "vallist = os.listdir(val)\n",
    "valdata = [val + e for e in vallist]\n",
    "key_list = []\n",
    "print('---------------------------------------------------')\n",
    "for sampleset in traindata:\n",
    "    print('---->',sampleset,'有：',len(os.listdir(sampleset)),'个样本')\n",
    "    for e in os.listdir(sampleset):\n",
    "        print(e,end=\" \")\n",
    "        key_list.append(e)\n",
    "print('---------------------------------------------------')\n",
    "for sampleset in valdata:\n",
    "    print('---->',sampleset,'有：',len(os.listdir(sampleset)),'个样本')\n",
    "    for e in os.listdir(sampleset):\n",
    "        print(e,end=\" \")\n",
    "        key_list.append(e)\n",
    "        \n",
    "all_data = valdata + traindata"
   ]
  },
  {
   "cell_type": "markdown",
   "id": "b0ac68d6",
   "metadata": {},
   "source": [
    "# 光流计算"
   ]
  },
  {
   "cell_type": "code",
   "execution_count": null,
   "id": "14001bed",
   "metadata": {
    "scrolled": true
   },
   "outputs": [],
   "source": [
    "%autoreload\n",
    "from tianmoucv.proc.opticalflow import interpolate_image,flow_to_image\n",
    "from tianmoucv.proc.opticalflow import LK_optical_flow\n",
    "from tianmoucv.isp import SD2XY\n",
    "import time\n",
    "from IPython.display import clear_output\n",
    "\n",
    "accumTime = 5\n",
    "noiseThresh = 8\n",
    "lambda_of_HS = 25 #bigger->smoother\n",
    "#(输入是0~255时lambda要>1,否则千万不能太大)\n",
    "\n",
    "W = 640\n",
    "H = 320\n",
    "gridX, gridY = np.meshgrid(np.arange(W), np.arange(H))\n",
    "\n",
    "key_list = ['test_exam_fan4']\n",
    "imlist = []\n",
    "\n",
    "for key in key_list:\n",
    "    pathList = all_data\n",
    "    dataset = TianmoucDataReader(pathList,showList=True,\n",
    "                                 matchkey = key,\n",
    "                                 MAXLEN=-1,\n",
    "                                 speedUpRate=1,\n",
    "                                 print_info=False)\n",
    "    for index in range(len(dataset)):\n",
    "        if index <= 15:\n",
    "            continue\n",
    "        elif index > 20:\n",
    "            break\n",
    "        else:\n",
    "            print('rpogress:',index,'/',len(dataset))\n",
    "            sample = dataset[index]\n",
    "            F0 = sample['F0']\n",
    "            F1 = sample['F1']\n",
    "            tsdiff = sample['rawDiff']\n",
    "            F0show = F0.copy()\n",
    "            show_img = F0show.copy()\n",
    "            for b in range(25//accumTime):\n",
    "                sd = 0\n",
    "                td = 0\n",
    "                TD = 0\n",
    "                #积累几帧diff\n",
    "                for t in range(accumTime):\n",
    "                    threshed_tsdiff = tsdiff[:,b*accumTime+t,...].permute(1,2,0)\n",
    "                    threshed_tsdiff[abs(threshed_tsdiff)<noiseThresh] = 0\n",
    "                    SD = threshed_tsdiff[...,1:]\n",
    "                    TD = threshed_tsdiff[...,0]\n",
    "                    Ix,Iy= SD2XY(SD)\n",
    "                    sd += torch.FloatTensor(np.stack([Ix,Iy],axis=0))\n",
    "                    td += -(TD)\n",
    "\n",
    "                # AOP预处理\n",
    "                sd = sd/accumTime\n",
    "                td = td.unsqueeze(0)\n",
    "\n",
    "                td = F.interpolate(td.unsqueeze(0), size=sd.shape[1:], mode='bilinear').squeeze(0)\n",
    "\n",
    "                # 计算OF\n",
    "                rawflow =  LK_optical_flow(sd,td, win=31, stride = 5,mask=None,ifInterploted = False)\n",
    "                u = rawflow[0,:, :].numpy()\n",
    "                v = rawflow[1,:, :].numpy()\n",
    "                u = torch.Tensor(cv2.resize(u,(640,320))).unsqueeze(0)\n",
    "                v = torch.Tensor(cv2.resize(v,(640,320))).unsqueeze(0)\n",
    "\n",
    "                #可视化\n",
    "                flow_show = flow_to_image(rawflow.permute(1,2,0).numpy())\n",
    "                flow_show = torch.Tensor(cv2.resize(flow_show,(640,320)))/255.0\n",
    "                flow_show = (flow_show*255).numpy().astype(np.uint8)\n",
    "\n",
    "                tdshow = TD.unsqueeze(0).unsqueeze(0)\n",
    "                tdshow = F.interpolate(tdshow,(320,640),mode='bilinear')\n",
    "\n",
    "                mask = np.mean(flow_show,axis=-1) > 225\n",
    "                flow_show[np.stack([mask]*3,axis=-1)]=0\n",
    "\n",
    "                show_img = interpolate_image(show_img,u,v)\n",
    "                tdiff_show = np.stack([tdshow[0,0,...].cpu()*255]*3,axis=2).astype(np.uint8)\n",
    "                sparsity = 8\n",
    "                scale = 10\n",
    "                for w in range(640//sparsity):\n",
    "                    for h in range(320//sparsity):\n",
    "                        x = int(w*sparsity)\n",
    "                        y = int(h*sparsity)\n",
    "                        u_ij = -u[0,y,x]\n",
    "                        v_ij = -v[0,y,x]\n",
    "                        color = flow_show[y,x,:]\n",
    "                        color = tuple([int(e+20) for e in color])\n",
    "                        if (u_ij**2+v_ij**2)>5:\n",
    "                            cv2.arrowedLine(flow_show, (x,y), (int(x+u_ij*scale),int(y+v_ij*scale)), color,2, tipLength=0.15)\n",
    "\n",
    "                tdiff_show_tensor = torch.Tensor(tdiff_show.copy())\n",
    "                flow_show_tensor = torch.Tensor(flow_show)\n",
    "                mask = torch.stack([torch.mean(flow_show_tensor,dim=-1)>0]*3,dim=-1)\n",
    "                tdiff_show_tensor[mask] = flow_show_tensor[mask]/255.0\n",
    "                tdiff_show_merge = tdiff_show_tensor.numpy()\n",
    "                imshow = np.concatenate([flow_show/255.0,tdiff_show,tdiff_show_merge],axis=0)\n",
    "                imlist.append(imshow)\n",
    "\n",
    "                if b %10 ==0:\n",
    "                    clear_output()\n",
    "                    plt.figure(figsize=(9,5))\n",
    "                    plt.axis('off') \n",
    "                    plt.subplot(2,2,1)\n",
    "                    plt.imshow(Ix,cmap='gray')\n",
    "                    plt.subplot(2,2,2)\n",
    "                    plt.imshow(TD,cmap='gray')\n",
    "                    plt.axis('off') \n",
    "                    plt.subplot(2,2,3)\n",
    "                    plt.imshow(F0show)\n",
    "                    plt.subplot(2,2,4)\n",
    "                    plt.imshow(flow_show)\n",
    "                    plt.show()"
   ]
  },
  {
   "cell_type": "code",
   "execution_count": null,
   "id": "8bc06624-aea6-4c27-93ff-2fdbceb4b453",
   "metadata": {},
   "outputs": [],
   "source": [
    "def images_to_video(frame_list,name,Val_size=(512,256),Flip=False):\n",
    "    fps = 30     \n",
    "    size = (Val_size[0], Val_size[1]) # 需要转为视频的图片的尺寸\n",
    "    out = cv2.VideoWriter(name,0x7634706d , fps, size)\n",
    "    for frame in frame_list:\n",
    "        frame = frame * 255\n",
    "        frame2 = frame.astype(np.uint8)\n",
    "        out.write(frame2)\n",
    "    out.release()\n",
    "    \n",
    "images_to_video(imlist,'./LKOF_'+key+'.mp4',Val_size=(640,960),Flip=True)"
   ]
  },
  {
   "cell_type": "code",
   "execution_count": null,
   "id": "438c5088-06d7-4b60-b464-41269667d367",
   "metadata": {},
   "outputs": [],
   "source": []
  }
 ],
 "metadata": {
  "kernelspec": {
   "display_name": "Python 3 (ipykernel)",
   "language": "python",
   "name": "python3"
  },
  "language_info": {
   "codemirror_mode": {
    "name": "ipython",
    "version": 3
   },
   "file_extension": ".py",
   "mimetype": "text/x-python",
   "name": "python",
   "nbconvert_exporter": "python",
   "pygments_lexer": "ipython3",
   "version": "3.12.2"
  }
 },
 "nbformat": 4,
 "nbformat_minor": 5
}
