{
 "cells": [
  {
   "cell_type": "code",
   "execution_count": null,
   "id": "5c61d3c7",
   "metadata": {},
   "outputs": [],
   "source": [
    "%load_ext autoreload"
   ]
  },
  {
   "cell_type": "markdown",
   "id": "a23466e2",
   "metadata": {},
   "source": [
    "# 引入必要的库"
   ]
  },
  {
   "cell_type": "code",
   "execution_count": null,
   "id": "57341703",
   "metadata": {
    "scrolled": true
   },
   "outputs": [],
   "source": [
    "%autoreload\n",
    "import sys,os\n",
    "import numpy as np\n",
    "import matplotlib.pyplot as plt\n",
    "from tianmoucv.isp import fourdirection2xy\n",
    "from tianmoucv.proc.reconstruct import laplacian_blending\n",
    "import torch\n",
    "\n",
    "from tianmoucv.data import TianmoucDataReader\n",
    "import torch.nn.functional as F\n",
    "import cv2\n",
    "\n",
    "train='/data/lyh/tianmoucData/tianmoucReconDataset/train/'\n",
    "dirlist = os.listdir(train)\n",
    "traindata = [train + e for e in dirlist]\n",
    "\n",
    "val='/data/lyh/tianmoucData/tianmoucReconDataset/test/'\n",
    "vallist = os.listdir(val)\n",
    "valdata = [val + e for e in vallist]\n",
    "key_list = []\n",
    "\n",
    "print('---------------------------------------------------')\n",
    "for sampleset in traindata:\n",
    "    print('---->',sampleset,'有：',len(os.listdir(sampleset)),'个样本')\n",
    "    for e in os.listdir(sampleset):\n",
    "        print(e)\n",
    "        key_list.append(e)\n",
    "print('---------------------------------------------------')\n",
    "for sampleset in valdata:\n",
    "    print('---->',sampleset,'有：',len(os.listdir(sampleset)),'个样本')\n",
    "    for e in os.listdir(sampleset):\n",
    "        print(e)\n",
    "        key_list.append(e)\n",
    "        \n",
    "all_data = valdata + traindata\n"
   ]
  },
  {
   "cell_type": "code",
   "execution_count": null,
   "id": "b7612654",
   "metadata": {},
   "outputs": [],
   "source": [
    "key_list = ['underbridge_hdr_4']"
   ]
  },
  {
   "cell_type": "markdown",
   "id": "1147a5c5",
   "metadata": {},
   "source": [
    "# 融合图像"
   ]
  },
  {
   "cell_type": "code",
   "execution_count": null,
   "id": "915b7f6b",
   "metadata": {},
   "outputs": [],
   "source": [
    "%autoreload\n",
    "import torch.nn as nn\n",
    "import math\n",
    "import time\n",
    "\n",
    "MSE_LossFn = nn.MSELoss()\n",
    "speedUpRate = 1\n",
    "\n",
    "def images_to_video(frame_list,name,size=(640,320),Flip=False):\n",
    "    fps = 25        \n",
    "    ftmax = max([np.max(ft) for ft in frame_list])\n",
    "    ftmin = min([np.min(ft) for ft in frame_list])\n",
    "    out = cv2.VideoWriter(name,0x7634706d , fps, size)\n",
    "    for ft in frame_list:\n",
    "        ft = (ft-ftmin)/(ftmax-ftmin)\n",
    "        ft2 = (ft*255).astype(np.uint8)\n",
    "        out.write(ft2)\n",
    "    out.release()\n",
    "\n",
    "psnrcount =0\n",
    "count = 0\n",
    "\n",
    "for key in key_list:\n",
    "    dataset = TianmoucDataReader(all_data,MAXLEN=500*speedUpRate,matchkey=key,speedUpRate=speedUpRate)\n",
    "    dataLoader = torch.utils.data.DataLoader(dataset, batch_size=1,\\\n",
    "                                          num_workers=4, pin_memory=False, drop_last = False)\n",
    "\n",
    "    PSNR = 0\n",
    "    img_list = []\n",
    "    for index,sample in enumerate(dataLoader,0):\n",
    "        if index<0:\n",
    "            continue\n",
    "        if index<= 1:\n",
    "            psnrcount += 1\n",
    "            F0 = sample['F0'][0,...]\n",
    "            F0_HDR = sample['F0_HDR'][0,...]\n",
    "\n",
    "            raw_F0 = F0.clone()\n",
    "\n",
    "            \n",
    "            for t in [0]:\n",
    "                tsdiff = sample['rawDiff'][0,...]/128.0        \n",
    "                SD = tsdiff[1:,t,...].permute(1,2,0)\n",
    "                ts= time.time()\n",
    "                Ix,Iy= fourdirection2xy(SD)\n",
    "                Ix = F.interpolate(torch.Tensor(Ix).unsqueeze(0).unsqueeze(0), size=(320,640), mode='bilinear').squeeze(0).squeeze(0)\n",
    "                Iy = F.interpolate(torch.Tensor(Iy).unsqueeze(0).unsqueeze(0), size=(320,640), mode='bilinear').squeeze(0).squeeze(0)\n",
    "                blend_hdr = laplacian_blending(-Ix,-Iy, srcimg= F0,iteration=20, mask_rgb=True,mask_th=36)\n",
    "                blend_hdr_more_sd = laplacian_blending(-Ix,-Iy, srcimg= F0,iteration=20, mask_rgb=True,mask_th=48)#更激进的参数\n",
    "                te = time.time()\n",
    "                print('cost:',te-ts,'s')\n",
    "                \n",
    "                show = torch.cat([raw_F0,blend_hdr],dim=0)\n",
    "            \n",
    "                img_list.append(show.numpy()[...,[2,1,0]])\n",
    "            \n",
    "            \n",
    "            plt.figure(figsize=(12,6))\n",
    "            plt.subplot(1,3,1)  \n",
    "            plt.imshow(F0_HDR,cmap='gray')\n",
    "            plt.subplot(1,3,2)  \n",
    "            plt.imshow(blend_hdr)\n",
    "            plt.subplot(1,3,3)  \n",
    "            plt.imshow(blend_hdr_more_sd)\n",
    "            plt.show()\n",
    "        else:\n",
    "            break\n",
    "    \n",
    "    #images_to_video(img_list,size=(640,640),name='./Direct_'+key+'.mp4')"
   ]
  }
 ],
 "metadata": {
  "kernelspec": {
   "display_name": "Python 3 (ipykernel)",
   "language": "python",
   "name": "python3"
  },
  "language_info": {
   "codemirror_mode": {
    "name": "ipython",
    "version": 3
   },
   "file_extension": ".py",
   "mimetype": "text/x-python",
   "name": "python",
   "nbconvert_exporter": "python",
   "pygments_lexer": "ipython3",
   "version": "3.10.8"
  }
 },
 "nbformat": 4,
 "nbformat_minor": 5
}
