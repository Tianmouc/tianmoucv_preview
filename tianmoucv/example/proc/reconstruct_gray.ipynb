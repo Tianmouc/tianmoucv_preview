{
 "cells": [
  {
   "cell_type": "markdown",
   "id": "699e1bea-06c7-474b-b01b-dcce3c58d2db",
   "metadata": {},
   "source": [
    "# 基于AOP的灰度重建\n",
    "\n",
    "## 这个示例展示如何使用AOP中的数据直接做灰度重建\n",
    "\n",
    "调用接口：\n",
    "- tianmoucv.proc.reconstruct.TD_integration\n",
    "- tianmoucv.proc.reconstruct.SD_integration\n",
    "- tianmoucv.isp.SD2XY\n",
    "\n"
   ]
  },
  {
   "cell_type": "code",
   "execution_count": null,
   "id": "883d8e2d",
   "metadata": {},
   "outputs": [],
   "source": [
    "%load_ext autoreload"
   ]
  },
  {
   "cell_type": "markdown",
   "id": "9b5e642b",
   "metadata": {},
   "source": [
    "## 引入必要的库"
   ]
  },
  {
   "cell_type": "code",
   "execution_count": null,
   "id": "8b65dad2",
   "metadata": {
    "scrolled": true
   },
   "outputs": [],
   "source": [
    "%autoreload\n",
    "from IPython.display import clear_output\n",
    "import sys,time,cv2,torch,os,random,argparse\n",
    "import matplotlib.pyplot as plt\n",
    "import torch.nn as nn\n",
    "import torch.nn.functional as F\n",
    "import numpy as np\n",
    "import math\n",
    "\n",
    "from tianmoucv.proc.reconstruct import TD_integration,SD_integration\n",
    "from tianmoucv.isp import lyncam_raw_comp,demosaicing_npy,vizDiff\n",
    "from tianmoucv.data import TianmoucDataReader\n",
    "from tianmoucv.isp import SD2XY\n",
    "from tianmoucv.proc.reconstruct import laplacian_blending\n",
    "\n",
    "def images_to_video(frame_list,name,size=(640,320),Flip=True):\n",
    "    fps = 60        \n",
    "    ftmax = max([np.max(ft) for ft in frame_list])\n",
    "    ftmin = min([np.min(ft) for ft in frame_list])\n",
    "    out = cv2.VideoWriter(name,0x7634706d , fps, size)\n",
    "    for ft in frame_list:\n",
    "        ft = (ft-ftmin)/(ftmax-ftmin)\n",
    "        ft2 = (ft*255).astype(np.uint8)\n",
    "        out.write(ft2)\n",
    "    out.release()"
   ]
  },
  {
   "cell_type": "markdown",
   "id": "66f06edc-8c80-40b5-b3d3-19c4629fca0f",
   "metadata": {},
   "source": [
    "## 准备数据"
   ]
  },
  {
   "cell_type": "code",
   "execution_count": null,
   "id": "e97cfe25-1fec-4db2-a029-a2a00df7f9e4",
   "metadata": {},
   "outputs": [],
   "source": [
    "train='/data/lyh/tianmoucData/tianmoucReconDataset/train/'\n",
    "dirlist = os.listdir(train)\n",
    "traindata = [train + e for e in dirlist]\n",
    "val='/data/lyh/tianmoucData/tianmoucReconDataset/test/'\n",
    "vallist = os.listdir(val)\n",
    "valdata = [val + e for e in vallist]\n",
    "\n",
    "key_list = [] #包含所有sample名作为匹配关键词\n",
    "for sampleset in valdata:\n",
    "    print(' ')\n",
    "    print('---->',sampleset,'有：',len(os.listdir(sampleset)),'个样本--------------------')\n",
    "    for e in os.listdir(sampleset):\n",
    "        print(e,end=\" \")\n",
    "        key_list.append(e)\n",
    "for sampleset in traindata:\n",
    "    print(' ')\n",
    "    print('---->',sampleset,'有：',len(os.listdir(sampleset)),'个样本--------------------')\n",
    "    for e in os.listdir(sampleset):\n",
    "        print(e,end=\" \")\n",
    "        key_list.append(e)     \n",
    "        \n",
    "all_data = valdata + traindata #包含所有数据的父路径的列表"
   ]
  },
  {
   "cell_type": "markdown",
   "id": "fd3a8965",
   "metadata": {},
   "source": [
    "## 读取数据，分别用3种不同的方法重建灰度图"
   ]
  },
  {
   "cell_type": "code",
   "execution_count": null,
   "id": "bd4e7c0a",
   "metadata": {},
   "outputs": [],
   "source": [
    "%autoreload\n",
    "from IPython.display import clear_output\n",
    "\n",
    "MSE_LossFn = nn.MSELoss()\n",
    "speedUpRate = 1\n",
    "psnrcount =0\n",
    "count = 0\n",
    "\n",
    "for key in ['train_exam_full1']:\n",
    "    dataset = TianmoucDataReader(all_data,MAXLEN=500*speedUpRate,matchkey=key,speedUpRate=speedUpRate)\n",
    "    dataLoader = torch.utils.data.DataLoader(dataset, batch_size=1,\\\n",
    "                                          num_workers=4, pin_memory=False, drop_last = False)\n",
    "\n",
    "    PSNR = 0\n",
    "    img_list = []\n",
    "    for index,sample in enumerate(dataLoader,0):\n",
    "        if index<0:\n",
    "            continue\n",
    "        if index<= 20:\n",
    "            psnrcount += 1\n",
    "            F0 = sample['F0_HDR'][0,...]\n",
    "            F1 = sample['F1_HDR'][0,...]\n",
    "            gray1 = torch.mean(F1,dim=-1)\n",
    "            gray0 = torch.mean(F0,dim=-1)\n",
    "\n",
    "            for t in range(sample['rawDiff'].size(2)):\n",
    "\n",
    "                tsdiff = sample['rawDiff'][0,...]/255.0\n",
    "\n",
    "                # TD积分\n",
    "                hdr = TD_integration(tsdiff,F0,F1,t,threshGate=0/255.0)\n",
    "                hdr = hdr.numpy()\n",
    "                hdr_show = np.stack([hdr]*3,axis=-1)                \n",
    "                SD = tsdiff[1:,t,...].permute(1,2,0)\n",
    "                Ix,Iy= SD2XY(SD)\n",
    "                gray = laplacian_blending(-Ix,-Iy,iteration=20)\n",
    "                gray_laplac = F.interpolate(torch.Tensor(gray).unsqueeze(0).unsqueeze(0), size=(320,640), mode='bilinear').squeeze(0).squeeze(0)\n",
    "\n",
    "                # SD积分\n",
    "                gray_direct = SD_integration(Ix,Iy)\n",
    "                if t==12:\n",
    "                    clear_output()\n",
    "                    plt.figure(figsize=(12,6))\n",
    "                    plt.subplot(2,2,1)  \n",
    "                    plt.imshow(gray0,cmap='gray')\n",
    "                    plt.subplot(2,2,2)  \n",
    "                    plt.imshow(hdr_show)\n",
    "                    plt.subplot(2,2,3)  \n",
    "                    plt.imshow(gray_laplac,cmap='gray')\n",
    "                    plt.subplot(2,2,4)  \n",
    "                    plt.imshow(gray_direct,cmap='gray')\n",
    "                    plt.show()\n",
    "                    \n",
    "                if t==25:\n",
    "                    MSE_val = MSE_LossFn(torch.Tensor(hdr), gray1) \n",
    "                    PSNR += (10 * math.log10(1 / MSE_val.item()))\n",
    "                    print(\"PSNR:\",PSNR/psnrcount,'dB')\n",
    "                img_list.append(hdr_show)\n",
    "        else:\n",
    "            break"
   ]
  },
  {
   "cell_type": "code",
   "execution_count": null,
   "id": "d8f65a01-340d-4eff-9ed0-e2932e2a8a03",
   "metadata": {},
   "outputs": [],
   "source": [
    "images_to_video(img_list,'./gray_recon.mp4')"
   ]
  },
  {
   "cell_type": "code",
   "execution_count": null,
   "id": "ead7ff03-31cb-45b7-b1e9-a1c34b2153b0",
   "metadata": {},
   "outputs": [],
   "source": []
  }
 ],
 "metadata": {
  "kernelspec": {
   "display_name": "Python 3 (ipykernel)",
   "language": "python",
   "name": "python3"
  },
  "language_info": {
   "codemirror_mode": {
    "name": "ipython",
    "version": 3
   },
   "file_extension": ".py",
   "mimetype": "text/x-python",
   "name": "python",
   "nbconvert_exporter": "python",
   "pygments_lexer": "ipython3",
   "version": "3.12.2"
  }
 },
 "nbformat": 4,
 "nbformat_minor": 5
}
