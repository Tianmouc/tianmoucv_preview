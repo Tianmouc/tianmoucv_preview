{
 "cells": [
  {
   "cell_type": "code",
   "execution_count": null,
   "id": "0023dd50",
   "metadata": {},
   "outputs": [],
   "source": [
    "%load_ext autoreload"
   ]
  },
  {
   "cell_type": "markdown",
   "id": "1438f106",
   "metadata": {},
   "source": [
    "# 引入必要的库"
   ]
  },
  {
   "cell_type": "code",
   "execution_count": null,
   "id": "ea60b41c",
   "metadata": {
    "scrolled": true
   },
   "outputs": [],
   "source": [
    "%autoreload\n",
    "import sys,os\n",
    "import numpy as np\n",
    "import matplotlib.pyplot as plt\n",
    "from tianmoucv.isp import fourdirection2xy\n",
    "from tianmoucv.proc.reconstruct import poisson_blend\n",
    "import torch\n",
    "from tianmoucv.data import TianmoucDataReader\n",
    "import torch.nn.functional as F\n",
    "import cv2\n",
    "\n",
    "train='/data/lyh/tianmoucData/tianmoucReconDataset/train/'\n",
    "dirlist = os.listdir(train)\n",
    "traindata = [train + e for e in dirlist]\n",
    "\n",
    "val='/data/lyh/tianmoucData/tianmoucReconDataset/test/'\n",
    "vallist = os.listdir(val)\n",
    "valdata = [val + e for e in vallist]\n",
    "key_list = []\n",
    "\n",
    "print('---------------------------------------------------')\n",
    "for sampleset in traindata:\n",
    "    print('---->',sampleset,'有：',len(os.listdir(sampleset)),'个样本')\n",
    "    for e in os.listdir(sampleset):\n",
    "        print(e)\n",
    "        key_list.append(e)\n",
    "print('---------------------------------------------------')\n",
    "for sampleset in valdata:\n",
    "    print('---->',sampleset,'有：',len(os.listdir(sampleset)),'个样本')\n",
    "    for e in os.listdir(sampleset):\n",
    "        print(e)\n",
    "        key_list.append(e)\n",
    "        \n",
    "all_data = valdata + traindata\n"
   ]
  },
  {
   "cell_type": "markdown",
   "id": "6651b357",
   "metadata": {},
   "source": [
    "# 融合图像"
   ]
  },
  {
   "cell_type": "code",
   "execution_count": null,
   "id": "9d7c0d05",
   "metadata": {
    "scrolled": true
   },
   "outputs": [],
   "source": [
    "%autoreload\n",
    "import torch.nn as nn\n",
    "import math\n",
    "from tianmoucv.proc.reconstruct.integration import grayReconstructor\n",
    "\n",
    "MSE_LossFn = nn.MSELoss()\n",
    "speedUpRate = 1\n",
    "\n",
    "\n",
    "def images_to_video(frame_list,name,size=(640,320),Flip=False):\n",
    "    fps = 25        \n",
    "    ftmax = max([np.max(ft) for ft in frame_list])\n",
    "    ftmin = min([np.min(ft) for ft in frame_list])\n",
    "    out = cv2.VideoWriter(name,0x7634706d , fps, size)\n",
    "    for ft in frame_list:\n",
    "        ft = (ft-ftmin)/(ftmax-ftmin)\n",
    "        ft2 = (ft*255).astype(np.uint8)\n",
    "        out.write(ft2)\n",
    "    out.release()\n",
    "\n",
    "psnrcount =0\n",
    "count = 0\n",
    "\n",
    "for key in ['train_exam_full1']:\n",
    "    dataset = TianmoucDataReader(all_data,MAXLEN=500*speedUpRate,matchkey=key,speedUpRate=speedUpRate)\n",
    "    dataLoader = torch.utils.data.DataLoader(dataset, batch_size=1,\\\n",
    "                                          num_workers=4, pin_memory=False, drop_last = False)\n",
    "\n",
    "    PSNR = 0\n",
    "    img_list = []\n",
    "    for index,sample in enumerate(dataLoader,0):\n",
    "        if index<0:\n",
    "            continue\n",
    "        if index<= 20:\n",
    "            psnrcount += 1\n",
    "            F0 = sample['F0_HDR'][0,...]\n",
    "            F1 = sample['F1_HDR'][0,...]\n",
    "            gray1 = torch.mean(F1,dim=-1)\n",
    "            gray0 = torch.mean(F0,dim=-1)\n",
    "\n",
    "            for t in range(sample['rawDiff'].size(2)):\n",
    "\n",
    "                tsdiff = sample['rawDiff'][0,...]/255.0\n",
    "                hdr = grayReconstructor(tsdiff,F0,F1,t,threshGate=0/255.0)\n",
    "                hdr = hdr.numpy()\n",
    "                hdr_show = np.stack([hdr]*3,axis=-1)                \n",
    "                SD = tsdiff[1:,t,...].permute(1,2,0)\n",
    "                Ix,Iy= fourdirection2xy(SD)\n",
    "                gray = poisson_blend(-Ix,-Iy,iteration=20)\n",
    "                gray = F.interpolate(torch.Tensor(gray).unsqueeze(0).unsqueeze(0), size=(320,640), mode='bilinear').squeeze(0).squeeze(0)\n",
    "        \n",
    "                if t==12:\n",
    "                    plt.figure(figsize=(18,6))\n",
    "                    plt.subplot(1,3,1)  \n",
    "                    plt.imshow(gray0,cmap='gray')\n",
    "                    plt.subplot(1,3,2)  \n",
    "                    plt.imshow(hdr_show)\n",
    "                    plt.subplot(1,3,3)  \n",
    "                    plt.imshow(gray,cmap='gray')\n",
    "                    plt.show()\n",
    "                    \n",
    "                if t==25:\n",
    "                    MSE_val = MSE_LossFn(torch.Tensor(hdr), gray1) \n",
    "                    PSNR += (10 * math.log10(1 / MSE_val.item()))\n",
    "                    print(\"PSNR:\",PSNR/psnrcount,'dB')\n",
    "                img_list.append(hdr_show)\n",
    "        else:\n",
    "            break\n",
    "    \n",
    "    images_to_video(img_list,'./Direct_'+key+'.mp4')"
   ]
  }
 ],
 "metadata": {
  "kernelspec": {
   "display_name": "Python 3 (ipykernel)",
   "language": "python",
   "name": "python3"
  },
  "language_info": {
   "codemirror_mode": {
    "name": "ipython",
    "version": 3
   },
   "file_extension": ".py",
   "mimetype": "text/x-python",
   "name": "python",
   "nbconvert_exporter": "python",
   "pygments_lexer": "ipython3",
   "version": "3.10.8"
  }
 },
 "nbformat": 4,
 "nbformat_minor": 5
}
