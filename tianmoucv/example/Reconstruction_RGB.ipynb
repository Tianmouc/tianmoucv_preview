{
 "cells": [
  {
   "cell_type": "code",
   "execution_count": null,
   "id": "9650e9d1",
   "metadata": {},
   "outputs": [],
   "source": [
    "%load_ext autoreload"
   ]
  },
  {
   "cell_type": "markdown",
   "id": "3c070f4e",
   "metadata": {},
   "source": [
    "# 引入必要的库"
   ]
  },
  {
   "cell_type": "code",
   "execution_count": null,
   "id": "60090514",
   "metadata": {
    "scrolled": true
   },
   "outputs": [],
   "source": [
    "%autoreload\n",
    "import sys,os\n",
    "import numpy as np\n",
    "import matplotlib.pyplot as plt\n",
    "from tianmoucv.isp import fourdirection2xy,poisson_blend\n",
    "from tianmoucv.data import TianmoucDataReader\n",
    "import torch.nn.functional as F\n",
    "import torch\n",
    "import cv2\n",
    "\n",
    "train='/data/tianmoucData/tianmoucReconDataset_merged/train/'\n",
    "dirlist = os.listdir(train)\n",
    "traindata = [train + e for e in dirlist]\n",
    "\n",
    "val='/data/tianmoucData/tianmoucReconDataset_merged/test/'\n",
    "vallist = os.listdir(val)\n",
    "valdata = [val + e for e in vallist]\n",
    "key_list = []\n",
    "\n",
    "print('---------------------------------------------------')\n",
    "for sampleset in traindata:\n",
    "    print('---->',sampleset,'有：',len(os.listdir(sampleset)),'个样本')\n",
    "    for e in os.listdir(sampleset):\n",
    "        print(e)\n",
    "        key_list.append(e)\n",
    "print('---------------------------------------------------')\n",
    "for sampleset in valdata:\n",
    "    print('---->',sampleset,'有：',len(os.listdir(sampleset)),'个样本')\n",
    "    for e in os.listdir(sampleset):\n",
    "        print(e)\n",
    "        key_list.append(e)\n",
    "        \n",
    "all_data = valdata + traindata"
   ]
  },
  {
   "cell_type": "markdown",
   "id": "0b96e6f8",
   "metadata": {},
   "source": [
    "# 融合图像"
   ]
  },
  {
   "cell_type": "code",
   "execution_count": null,
   "id": "d8b4ff0b",
   "metadata": {
    "scrolled": true
   },
   "outputs": [],
   "source": [
    "%autoreload\n",
    "import torch.nn as nn\n",
    "import math,time\n",
    "from tianmoucv.reconstructor.integration import Reconstrutor_NN\n",
    "\n",
    "def images_to_video(frame_list,name,size=(640,320),Flip=True):\n",
    "    fps = 25        \n",
    "    ftmax = max([np.max(ft) for ft in frame_list])\n",
    "    ftmin = min([np.min(ft) for ft in frame_list])\n",
    "    out = cv2.VideoWriter(name,0x7634706d , fps, size)\n",
    "    for ft in frame_list:\n",
    "        ft = (ft-ftmin)/(ftmax-ftmin)\n",
    "        ft2 = (ft*255).astype(np.uint8)\n",
    "        ft2 = ft2[:,::-1,:]\n",
    "        out.write(ft2)\n",
    "    out.release()\n",
    "\n",
    "device = torch.device('cuda:2')\n",
    "reconstructor = Reconstrutor_NN().to(device)\n",
    "key_list = [\"test_exam_fan_QRcode_3\"]\n",
    "\n",
    "for key in key_list:\n",
    "    dataset = TianmoucDataReader(all_data,MAXLEN=500,ifSaveFileDict = False,matchkey=key,speedUpRate=1)\n",
    "    dataLoader = torch.utils.data.DataLoader(dataset, batch_size=1,\\\n",
    "                                          num_workers=4, pin_memory=False, drop_last = False)\n",
    "    img_list = []\n",
    "    for index,sample in enumerate(dataLoader,0):\n",
    "        if index<0:\n",
    "            continue\n",
    "        if index<= 5:\n",
    "            F0 = sample['F0'][0,...]\n",
    "            F1 = sample['F1'][0,...]\n",
    "            tsdiff = sample['rawDiff'][0,...]/255.0\n",
    "            #hdr = reconstructor.forward_single_t(F0,tsdiff,t) too slow\n",
    "            \n",
    "            reconstructed_b = reconstructor.forward_batch(F0.to(device),tsdiff.to(device)).float()\n",
    "\n",
    "            for t in range(sample['rawDiff'].size(2)):\n",
    "                reconstructed = reconstructed_b[t,...].cpu()\n",
    "                reconstructed = reconstructed.permute(1,2,0).numpy()\n",
    "                if t==12:\n",
    "                    plt.figure(figsize=(12,4))\n",
    "                    plt.subplot(1,3,1)  \n",
    "                    plt.imshow(F1)\n",
    "                    plt.subplot(1,3,2)  \n",
    "                    plt.imshow(reconstructed)\n",
    "                    plt.subplot(1,3,3)  \n",
    "                    plt.imshow(F0)\n",
    "                    plt.show()\n",
    "                reconstructed[reconstructed>1]=1\n",
    "                reconstructed[reconstructed<0]=0\n",
    "                img_list.append(reconstructed)\n",
    "        else:\n",
    "            break\n",
    "    images_to_video(img_list,'./Direct_RGB_'+key+'.mp4')"
   ]
  },
  {
   "cell_type": "code",
   "execution_count": null,
   "id": "6d8b80b6",
   "metadata": {},
   "outputs": [],
   "source": [
    "!ls /home/lyh/anaconda3/envs/pytorch2/lib/python3.10/site-packages/tianmoucv/reconstructor/weight/"
   ]
  },
  {
   "cell_type": "code",
   "execution_count": null,
   "id": "bcd5a7d1",
   "metadata": {},
   "outputs": [],
   "source": []
  }
 ],
 "metadata": {
  "kernelspec": {
   "display_name": "Python 3 (ipykernel)",
   "language": "python",
   "name": "python3"
  },
  "language_info": {
   "codemirror_mode": {
    "name": "ipython",
    "version": 3
   },
   "file_extension": ".py",
   "mimetype": "text/x-python",
   "name": "python",
   "nbconvert_exporter": "python",
   "pygments_lexer": "ipython3",
   "version": "3.10.8"
  }
 },
 "nbformat": 4,
 "nbformat_minor": 5
}
