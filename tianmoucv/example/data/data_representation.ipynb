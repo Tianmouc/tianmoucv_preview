{
 "cells": [
  {
   "cell_type": "code",
   "execution_count": null,
   "metadata": {},
   "outputs": [],
   "source": [
    "%load_ext autoreload"
   ]
  },
  {
   "cell_type": "markdown",
   "metadata": {},
   "source": [
    "# 获取数据集"
   ]
  },
  {
   "cell_type": "code",
   "execution_count": null,
   "metadata": {
    "scrolled": true
   },
   "outputs": [],
   "source": [
    "import os\n",
    "train='/data/lyh/tianmoucData/tianmoucReconDataset/train/'\n",
    "dirlist = os.listdir(train)\n",
    "traindata = [train + e for e in dirlist]\n",
    "\n",
    "val='/data/lyh/tianmoucData/tianmoucReconDataset/test/'\n",
    "vallist = os.listdir(val)\n",
    "valdata = [val + e for e in vallist]\n",
    "key_list = []\n",
    "print('---------------------------------------------------')\n",
    "for sampleset in traindata:\n",
    "    print('---->',sampleset,'有：',len(os.listdir(sampleset)),'个样本')\n",
    "    for e in os.listdir(sampleset):\n",
    "        print(e)\n",
    "        key_list.append(e)\n",
    "print('---------------------------------------------------')\n",
    "for sampleset in valdata:\n",
    "    print('---->',sampleset,'有：',len(os.listdir(sampleset)),'个样本')\n",
    "    for e in os.listdir(sampleset):\n",
    "        print(e)\n",
    "        key_list.append(e)\n",
    "\n",
    "all_data = valdata + traindata"
   ]
  },
  {
   "cell_type": "markdown",
   "metadata": {},
   "source": [
    "# 一些几何学工具"
   ]
  },
  {
   "cell_type": "code",
   "execution_count": null,
   "metadata": {},
   "outputs": [],
   "source": [
    "import matplotlib.path as mpath\n",
    "import matplotlib.pyplot as plt\n",
    "\n",
    "from tianmoucv.isp.transform import compute_minimum_convex_hull,calculate_area,is_inside,interpolate_zero_point\n",
    "\n",
    "def process_matrix(matrix):\n",
    "    vertices = compute_minimum_convex_hull(matrix)\n",
    "    print(\"闭包顶点：\", vertices)\n",
    "\n",
    "    # 计算闭包面积\n",
    "    area = calculate_area(vertices)\n",
    "    print(\"闭包面积：\", area)\n",
    "\n",
    "    matrix_inver = matrix.copy()\n",
    "    matrix_inver[matrix!=0] = 0\n",
    "    matrix_inver[matrix==0] = 1\n",
    "    matrix_inver = matrix_inver[:-2,:-2]\n",
    "    zero_points = np.transpose(np.nonzero(matrix_inver))\n",
    "    \n",
    "    # 判断零点是否落在闭包内部\n",
    "    matrix_output = matrix.copy()\n",
    "    for zero_point in zero_points:\n",
    "        if is_inside(vertices, zero_point):\n",
    "            #print(\"零点在闭包内\")\n",
    "            # 进行插值\n",
    "            interpolated_value = interpolate_zero_point(matrix, vertices, zero_point)\n",
    "            #print(\"插值结果：\", interpolated_value,zero_point)\n",
    "            matrix_output[zero_point[0],zero_point[1]] = interpolated_value\n",
    "        else:\n",
    "            pass\n",
    "            #print(\"零点不在闭包内\")\n",
    "    return matrix_output"
   ]
  },
  {
   "cell_type": "markdown",
   "metadata": {},
   "source": [
    "# 可视化表示结果"
   ]
  },
  {
   "cell_type": "code",
   "execution_count": null,
   "metadata": {},
   "outputs": [],
   "source": [
    "%autoreload\n",
    "import sys,os\n",
    "import numpy as np\n",
    "import torch\n",
    "import torch.nn.functional as F\n",
    "import cv2\n",
    "import math,time\n",
    "import matplotlib.pyplot as plt\n",
    "\n",
    "from tianmoucv.isp import fourdirection2xy\n",
    "from tianmoucv.proc.reconstruct import poisson_blend\n",
    "from tianmoucv.data import TianmoucDataReader\n",
    "\n",
    "from scipy.interpolate import griddata\n",
    "from mpl_toolkits.mplot3d import Axes3D\n",
    "\n",
    "key_list = ['test_exam_fan4']\n",
    "\n",
    "\n",
    "for key in key_list:\n",
    "    dataset = TianmoucDataReader(all_data,MAXLEN=500, matchkey=key,speedUpRate=1)\n",
    "    dataLoader = torch.utils.data.DataLoader(dataset, batch_size=1,\\\n",
    "                                          num_workers=4, pin_memory=False, drop_last = False)\n",
    "    img_list = []\n",
    "    for index,sample in enumerate(dataLoader,0):\n",
    "        if index == 0:\n",
    "            F0 = sample['F0'][0,...]\n",
    "            F1 = sample['F1'][0,...]\n",
    "            tsdiff = sample['tsdiff'][0,...]\n",
    "            print(F0.shape,tsdiff.shape)\n",
    "            print('帧表示')\n",
    "            plt.figure(figsize=(10,5))\n",
    "            plt.subplot(1,2,1)\n",
    "            plt.imshow(F0.numpy())\n",
    "            plt.subplot(1,2,2)\n",
    "            plt.imshow(tsdiff[:,12,...].permute(1,2,0).numpy())\n",
    "            plt.show()\n",
    "            print('时空表面')\n",
    "            edgesurface = np.zeros([320,640,3])\n",
    "            thresh = 0.1\n",
    "            for t in range(tsdiff.shape[1]):\n",
    "                mask = abs(tsdiff[0,t,...])>thresh\n",
    "                edgesurface[...,0][mask] = t/25.0\n",
    "                edgesurface[...,1][mask] = tsdiff[1,t,...][mask]\n",
    "                edgesurface[...,2][mask] = tsdiff[2,t,...][mask]\n",
    "                \n",
    "            fig = plt.figure(figsize=(10,5))\n",
    "            plt.subplot(1,1,1)\n",
    "            plt.imshow(edgesurface)\n",
    "            plt.show()\n",
    "            fig = plt.figure(figsize=(10,10))\n",
    "            \n",
    "            # 创建数据\n",
    "            x = np.linspace(0, 640, 640)\n",
    "            y = np.linspace(0, 320, 320)\n",
    "            X, Y = np.meshgrid(x, y)\n",
    "            Z = edgesurface[...,0]\n",
    "            \n",
    "            # 绘制三维表面\n",
    "            ax = fig.add_subplot(111, projection='3d')\n",
    "            ax.plot_surface(X, Y, Z, cmap='viridis')\n",
    "\n",
    "            # 在表面上绘制二维箭头\n",
    "            U = edgesurface[...,1]\n",
    "            V = edgesurface[...,2]\n",
    "            W = np.zeros_like(U)\n",
    "            length = np.sqrt(V**2+U**2)\n",
    "\n",
    "            ax.quiver(X, Y, Z, U, V, W, length = 1 )\n",
    "            # 设置图形参数\n",
    "            ax.set_xlabel('X')\n",
    "            ax.set_ylabel('Y')\n",
    "            ax.set_zlabel('Z')\n",
    "            ax.view_init(azim=-225, elev=30) \n",
    "            plt.show()\n",
    "            print('三维矢量云')\n",
    "            \n",
    "            \n",
    "        break"
   ]
  },
  {
   "cell_type": "code",
   "execution_count": null,
   "metadata": {},
   "outputs": [],
   "source": []
  }
 ],
 "metadata": {
  "kernelspec": {
   "display_name": "pytorch",
   "language": "python",
   "name": "pytorch"
  },
  "language_info": {
   "codemirror_mode": {
    "name": "ipython",
    "version": 3
   },
   "file_extension": ".py",
   "mimetype": "text/x-python",
   "name": "python",
   "nbconvert_exporter": "python",
   "pygments_lexer": "ipython3",
   "version": "3.9.12"
  }
 },
 "nbformat": 4,
 "nbformat_minor": 4
}
