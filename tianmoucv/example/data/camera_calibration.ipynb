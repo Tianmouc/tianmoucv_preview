{
 "cells": [
  {
   "cell_type": "code",
   "execution_count": null,
   "id": "d2bfdcce",
   "metadata": {},
   "outputs": [],
   "source": [
    "%load_ext autoreload"
   ]
  },
  {
   "cell_type": "markdown",
   "id": "ba1b2860",
   "metadata": {},
   "source": [
    "# 引入必要的库"
   ]
  },
  {
   "cell_type": "code",
   "execution_count": null,
   "id": "20b90a0d",
   "metadata": {
    "scrolled": true
   },
   "outputs": [],
   "source": [
    "import os\n",
    "\n",
    "checkboard_data=['/home/lyh/data/cameraCal']\n",
    "key_list = []\n",
    "\n",
    "print('---------------------------------------------------')\n",
    "for sampleset in checkboard_data:\n",
    "    print('---->',sampleset,'有：',len(os.listdir(sampleset)),'个样本')\n",
    "    for e in os.listdir(sampleset):\n",
    "        print(e)\n",
    "        key_list.append(e)\n",
    "\n",
    "key_list = ['cal5']"
   ]
  },
  {
   "cell_type": "markdown",
   "id": "70a89914-dfad-49a2-8505-b859c6a0cf30",
   "metadata": {},
   "source": [
    "# 棋盘格设置\n",
    " - (9,6）说明9列6行，不包含最外层一圈\n",
    " - objp 是棋盘格三维空间点\n",
    " - imgpoints是2D坐标"
   ]
  },
  {
   "cell_type": "code",
   "execution_count": null,
   "id": "e85d758d-ff2c-4271-b3a7-9ceb45bd3cb1",
   "metadata": {},
   "outputs": [],
   "source": [
    "import numpy as np\n",
    "CHECKERBOARD_SIZE = (9, 6)\n",
    "objp = np.zeros((CHECKERBOARD_SIZE[0] * CHECKERBOARD_SIZE[1], 3), np.float32)\n",
    "objp[:, :2] = np.mgrid[0:CHECKERBOARD_SIZE[0], 0:CHECKERBOARD_SIZE[1]].T.reshape(-1, 2)\n",
    "objpoints = []\n",
    "imgpoints = []"
   ]
  },
  {
   "cell_type": "markdown",
   "id": "2ce51ad9",
   "metadata": {},
   "source": [
    "# 读取并标定"
   ]
  },
  {
   "cell_type": "code",
   "execution_count": null,
   "id": "e93ae8ff",
   "metadata": {},
   "outputs": [],
   "source": [
    "%autoreload\n",
    "import sys,os\n",
    "import numpy as np\n",
    "import torch\n",
    "import torch.nn.functional as F\n",
    "import cv2\n",
    "import math,time\n",
    "import matplotlib.pyplot as plt\n",
    "\n",
    "from tianmoucv.isp import fourdirection2xy,poisson_blend\n",
    "from tianmoucv.data import TianmoucDataReader\n",
    "\n",
    "for key in key_list:\n",
    "    dataset = TianmoucDataReader(checkboard_data,\n",
    "                                 MAXLEN=1000,\n",
    "                                 matchkey=key,\n",
    "                                 speedUpRate=1)\n",
    "    for index in range(20,len(dataset)-20,10):\n",
    "        sample = dataset[index]\n",
    "        F0 = sample['F0']\n",
    "        #print('shapes:',F0.shape)\n",
    "\n",
    "        F0 = (F0*255).astype(np.uint8)\n",
    "\n",
    "        gray = cv2.cvtColor(F0, cv2.COLOR_RGB2GRAY)\n",
    "\n",
    "        # 获取角点：靠近点拍比较容易检测\n",
    "        ret, corners = cv2.findChessboardCorners(gray, CHECKERBOARD_SIZE, None)\n",
    "        \n",
    "        if ret:\n",
    "            objpoints.append(objp)\n",
    "            # Refine corners for greater accuracy\n",
    "            criteria = (cv2.TERM_CRITERIA_EPS + cv2.TERM_CRITERIA_MAX_ITER, 30, 0.01)\n",
    "            corners_refined = cv2.cornerSubPix(gray, corners, (11, 11), (-1, -1), criteria )\n",
    "            imgpoints.append(corners_refined)\n",
    "\n",
    "        \n",
    "            print(index)\n",
    "            print('----->success:',len(imgpoints))\n"
   ]
  },
  {
   "cell_type": "code",
   "execution_count": null,
   "id": "25dfec85",
   "metadata": {},
   "outputs": [],
   "source": [
    "\n",
    "# Calibrate camera\n",
    "ret, camera_matrix, distortion_coeff, rvecs, tvecs = cv2.calibrateCamera(objpoints, imgpoints, gray.shape[::-1], None, None)\n",
    "\n",
    "# Save calibration parameters as a file\n",
    "np.savez('calibration_parameters.npz', camera_matrix=camera_matrix, distortion_coeff=distortion_coeff)\n",
    "\n",
    "print(camera_matrix)\n",
    "\n",
    "# f/dx, 0, u\n",
    "# 0 f/dy,  v\n",
    "# 1,  1,   1"
   ]
  }
 ],
 "metadata": {
  "kernelspec": {
   "display_name": "Python 3 (ipykernel)",
   "language": "python",
   "name": "python3"
  },
  "language_info": {
   "codemirror_mode": {
    "name": "ipython",
    "version": 3
   },
   "file_extension": ".py",
   "mimetype": "text/x-python",
   "name": "python",
   "nbconvert_exporter": "python",
   "pygments_lexer": "ipython3",
   "version": "3.10.8"
  }
 },
 "nbformat": 4,
 "nbformat_minor": 5
}
