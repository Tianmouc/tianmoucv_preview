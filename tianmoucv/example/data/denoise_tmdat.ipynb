{
 "cells": [
  {
   "cell_type": "code",
   "execution_count": null,
   "id": "227271b0-dd08-4c66-89e2-4833593156e4",
   "metadata": {},
   "outputs": [],
   "source": [
    "%load_ext autoreload"
   ]
  },
  {
   "cell_type": "markdown",
   "id": "d6a1c4d0-a09b-4f14-8b45-826e7efb948f",
   "metadata": {
    "editable": true,
    "slideshow": {
     "slide_type": ""
    },
    "tags": []
   },
   "source": [
    "# (*) 以数据集形式同步读取AOP和COP，默认做对齐和ISP处理\n",
    "\n",
    "- TianmoucDataReader 的測試功能\n",
    "    - ## [输入]\n",
    "    - aop_denoise, 是否開啓AOP去噪\n",
    "    - aop_denoise_args = denoise_defualt_args(), 去噪默認參數\n",
    "        "
   ]
  },
  {
   "cell_type": "markdown",
   "id": "0ad14124-61f9-4d8e-b917-9cf4652dc615",
   "metadata": {
    "editable": true,
    "slideshow": {
     "slide_type": ""
    },
    "tags": []
   },
   "source": [
    "## 测试数据路径"
   ]
  },
  {
   "cell_type": "code",
   "execution_count": null,
   "id": "33157be9",
   "metadata": {
    "scrolled": true
   },
   "outputs": [],
   "source": [
    "%autoreload\n",
    "import sys,os\n",
    "import numpy as np\n",
    "import torch\n",
    "import matplotlib.pyplot as plt\n",
    "from tianmoucv.isp import SD2XY\n",
    "from tianmoucv.data import TianmoucDataReader\n",
    "import torch.nn.functional as F\n",
    "import cv2\n",
    "\n",
    "train='/data/lyh/tianmoucData/tianmoucReconDataset/train/'\n",
    "dirlist = os.listdir(train)\n",
    "traindata = [train + e for e in dirlist]\n",
    "val='/data/lyh/tianmoucData/tianmoucReconDataset/test/'\n",
    "vallist = os.listdir(val)\n",
    "valdata = [val + e for e in vallist]\n",
    "key_list = []\n",
    "print('---------------------------------------------------')\n",
    "for sampleset in traindata:\n",
    "    print('---->',sampleset,'有：',len(os.listdir(sampleset)),'个样本')\n",
    "    for e in os.listdir(sampleset):\n",
    "        print(e,end=\" \")\n",
    "        key_list.append(e)\n",
    "print('---------------------------------------------------')\n",
    "for sampleset in valdata:\n",
    "    print('---->',sampleset,'有：',len(os.listdir(sampleset)),'个样本')\n",
    "    for e in os.listdir(sampleset):\n",
    "        print(e,end=\" \")\n",
    "        key_list.append(e)\n",
    "        \n",
    "all_data = valdata + traindata"
   ]
  },
  {
   "cell_type": "markdown",
   "id": "2115bc66-ecaf-4c5c-a454-8f258cb5f136",
   "metadata": {},
   "source": [
    "# 对比去噪和不去噪的结果"
   ]
  },
  {
   "cell_type": "code",
   "execution_count": null,
   "id": "49d65573",
   "metadata": {
    "editable": true,
    "slideshow": {
     "slide_type": ""
    },
    "tags": []
   },
   "outputs": [],
   "source": [
    "%autoreload\n",
    "\n",
    "from tianmoucv.isp import vizDiff\n",
    "from tianmoucv.data.denoise_utils import denoise_defualt_args\n",
    "\n",
    "aim = 4 # 读取的目标COP帧的帧号\n",
    "N = 1   # read continue N frames （连续读取N帧COP以及对应的AOP）\n",
    "\n",
    "# 这些形式都可以读取数据\n",
    "datapath = \"/data/lyh/tianmoucData/tianmoucReconDataset/train/normal/train_cross2/\"\n",
    "datapath = [train,val]\n",
    "datapath = valdata + traindata\n",
    "key_list = ['train_cross2']\n",
    "\n",
    "for key in key_list:\n",
    "\n",
    "    # 默认关闭去噪\n",
    "    dataset = TianmoucDataReader(datapath,matchkey=key,aop_denoise = False,camera_idx=0)\n",
    "\n",
    "    # 开启去噪\n",
    "    defualt_args = denoise_defualt_args()\n",
    "    denoised_dataset = TianmoucDataReader(datapath,matchkey=key,aop_denoise = True, aop_denoise_args = defualt_args, camera_idx=0)\n",
    "    \n",
    "    img_list = []\n",
    "    for index in range(aim,min(aim+1,len(dataset))):\n",
    "        sample = dataset[index]\n",
    "        tsdiff = torch.Tensor(sample['tsdiff'])\n",
    "        length = tsdiff.shape[1]\n",
    "        plt.figure(figsize=(12,2*N))  \n",
    "        for i in range(N):\n",
    "            F = sample['F'+str(i)] #第i帧COP\n",
    "            F_HDR = sample['F'+str(i)+'_HDR'] #第i帧的HDR合成结果\n",
    "            F_HDR[F_HDR>1]=1\n",
    "            F_HDR[F_HDR<0]=0\n",
    "\n",
    "            tsd_rgb = tsdiff[:,i,...].permute(1,2,0)*255\n",
    "            td = tsd_rgb.cpu()[:,:,0]\n",
    "            sd = tsd_rgb.cpu()[:,:,1:]\n",
    "            rgb_sd = vizDiff(sd,thresh=2)\n",
    "            rgb_td = vizDiff(td,thresh=2)\n",
    "            rgb_cat = torch.cat([rgb_sd,rgb_td],dim=1).permute(1,2,0)\n",
    "            \n",
    "            plt.subplot(N,3,1+i*3)\n",
    "            plt.imshow(F)\n",
    "            plt.subplot(N,3,2+i*3)\n",
    "            plt.imshow(rgb_cat) #可视化第0帧，乘个Gain方便看\n",
    "            plt.subplot(N,3,3+i*3)\n",
    "            plt.imshow(F_HDR)\n",
    "        plt.show()\n",
    "\n",
    "    print('去噪结果')\n",
    "    for index in range(aim,min(aim+1,len(denoised_dataset))):\n",
    "        sample = denoised_dataset[index]\n",
    "        tsdiff = torch.Tensor(sample['tsdiff'])\n",
    "        length = tsdiff.shape[1]\n",
    "        plt.figure(figsize=(12,2*N))  \n",
    "        for i in range(N):\n",
    "            F = sample['F'+str(i)] #第i帧COP\n",
    "            F_HDR = sample['F'+str(i)+'_HDR'] #第i帧的HDR合成结果\n",
    "            F_HDR[F_HDR>1]=1\n",
    "            F_HDR[F_HDR<0]=0\n",
    "\n",
    "            tsd_rgb = tsdiff[:,i,...].permute(1,2,0)*255\n",
    "            td = tsd_rgb.cpu()[:,:,0]\n",
    "            sd = tsd_rgb.cpu()[:,:,1:]\n",
    "            rgb_sd = vizDiff(sd,thresh=2)\n",
    "            rgb_td = vizDiff(td,thresh=2)\n",
    "            rgb_cat = torch.cat([rgb_sd,rgb_td],dim=1).permute(1,2,0)\n",
    "            \n",
    "            plt.subplot(N,3,1+i*3)\n",
    "            plt.imshow(F)\n",
    "            plt.subplot(N,3,2+i*3)\n",
    "            plt.imshow(rgb_cat) #可视化第0帧，乘个Gain方便看\n",
    "            plt.subplot(N,3,3+i*3)\n",
    "            plt.imshow(F_HDR)\n",
    "        plt.show()\n",
    "        "
   ]
  }
 ],
 "metadata": {
  "kernelspec": {
   "display_name": "pytorch",
   "language": "python",
   "name": "pytorch"
  },
  "language_info": {
   "codemirror_mode": {
    "name": "ipython",
    "version": 3
   },
   "file_extension": ".py",
   "mimetype": "text/x-python",
   "name": "python",
   "nbconvert_exporter": "python",
   "pygments_lexer": "ipython3",
   "version": "3.12.2"
  }
 },
 "nbformat": 4,
 "nbformat_minor": 5
}
