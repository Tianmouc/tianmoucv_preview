{
 "cells": [
  {
   "cell_type": "code",
   "execution_count": null,
   "id": "227271b0-dd08-4c66-89e2-4833593156e4",
   "metadata": {},
   "outputs": [],
   "source": [
    "%load_ext autoreload"
   ]
  },
  {
   "cell_type": "markdown",
   "id": "d6a1c4d0-a09b-4f14-8b45-826e7efb948f",
   "metadata": {
    "editable": true,
    "slideshow": {
     "slide_type": ""
    },
    "tags": []
   },
   "source": [
    "# (*) 以数据集形式同步读取AOP和COP，默认做对齐和ISP处理\n",
    "\n",
    "- TianmoucDataReader 的測試功能\n",
    "    - ## [输入]\n",
    "    - aop_denoise, 是否開啓AOP去噪\n",
    "    - aop_denoise_args = denoise_defualt_args(), 去噪默認參數\n",
    "        "
   ]
  },
  {
   "cell_type": "markdown",
   "id": "2115bc66-ecaf-4c5c-a454-8f258cb5f136",
   "metadata": {},
   "source": [
    "# 对比去噪和不去噪的结果"
   ]
  },
  {
   "cell_type": "code",
   "execution_count": null,
   "id": "49d65573",
   "metadata": {
    "editable": true,
    "slideshow": {
     "slide_type": ""
    },
    "tags": []
   },
   "outputs": [],
   "source": [
    "%autoreload\n",
    "import torch\n",
    "import matplotlib.pyplot as plt\n",
    "\n",
    "from tianmoucv.data import TianmoucDataReader\n",
    "from tianmoucv.isp import vizDiff\n",
    "from tianmoucv.data.denoise_utils import denoise_defualt_args\n",
    "\n",
    "aim = 4 # 读取的目标COP帧的帧号\n",
    "N = 1   # read continue N frames （连续读取N帧COP以及对应的AOP）\n",
    "\n",
    "datapath = '/data/lyh/tianmoucData/20240930_tobi_sup_exp/data/lowlight_highspeed/tianmouc/100lux/1515fps_opt' #灰阶图\n",
    "key_list = ['1500rpm_g4']\n",
    "\n",
    "for key in key_list:\n",
    "\n",
    "    # 默认关闭去噪\n",
    "    dataset = TianmoucDataReader(datapath,matchkey=key,aop_denoise = False,camera_idx=0)\n",
    "\n",
    "    # 开启去噪\n",
    "    defualt_args = denoise_defualt_args()\n",
    "    denoised_dataset = TianmoucDataReader(datapath,matchkey=key,aop_denoise = True, aop_denoise_args = defualt_args, camera_idx=0)\n",
    "    \n",
    "    img_list = []\n",
    "    for index in range(aim,min(aim+1,len(dataset))):\n",
    "        sample = dataset[index]\n",
    "        tsdiff = torch.Tensor(sample['tsdiff'])\n",
    "        length = tsdiff.shape[1]\n",
    "        plt.figure(figsize=(12,2*N))  \n",
    "        print(sample['meta'])\n",
    "        for i in range(N):\n",
    "            F = sample['F'+str(i)] #第i帧COP\n",
    "            F_HDR = sample['F'+str(i)+'_HDR'] #第i帧的HDR合成结果\n",
    "            F_HDR[F_HDR>1]=1\n",
    "            F_HDR[F_HDR<0]=0\n",
    "\n",
    "            tsd_rgb = tsdiff[:,i,...].permute(1,2,0)*255\n",
    "            td = tsd_rgb.cpu()[:,:,0]\n",
    "            sd = tsd_rgb.cpu()[:,:,1:]\n",
    "            rgb_sd = vizDiff(sd,thresh=2)\n",
    "            rgb_td = vizDiff(td,thresh=2)\n",
    "            rgb_cat = torch.cat([rgb_sd,rgb_td],dim=1).permute(1,2,0)\n",
    "            \n",
    "            plt.subplot(N,3,1+i*3)\n",
    "            plt.imshow(F)\n",
    "            plt.subplot(N,3,2+i*3)\n",
    "            plt.imshow(rgb_cat) #可视化第0帧，乘个Gain方便看\n",
    "            plt.subplot(N,3,3+i*3)\n",
    "            plt.imshow(F_HDR)\n",
    "        plt.show()\n",
    "\n",
    "    print('去噪结果')\n",
    "    for index in range(aim,min(aim+1,len(denoised_dataset))):\n",
    "        sample = denoised_dataset[index]\n",
    "        tsdiff = torch.Tensor(sample['tsdiff'])\n",
    "        length = tsdiff.shape[1]\n",
    "        plt.figure(figsize=(12,2*N))  \n",
    "        for i in range(N):\n",
    "            F = sample['F'+str(i)] #第i帧COP\n",
    "            F_HDR = sample['F'+str(i)+'_HDR'] #第i帧的HDR合成结果\n",
    "            F_HDR[F_HDR>1]=1\n",
    "            F_HDR[F_HDR<0]=0\n",
    "            tsd_rgb = tsdiff[:,i,...].permute(1,2,0)*255\n",
    "            td = tsd_rgb.cpu()[:,:,0]\n",
    "            sd = tsd_rgb.cpu()[:,:,1:]\n",
    "            rgb_sd = vizDiff(sd,thresh=2)\n",
    "            rgb_td = vizDiff(td,thresh=2)\n",
    "            rgb_cat = torch.cat([rgb_sd,rgb_td],dim=1).permute(1,2,0)            \n",
    "            plt.subplot(N,3,1+i*3)\n",
    "            plt.imshow(F)\n",
    "            plt.subplot(N,3,2+i*3)\n",
    "            plt.imshow(rgb_cat) #可视化第0帧，乘个Gain方便看\n",
    "            plt.subplot(N,3,3+i*3)\n",
    "            plt.imshow(F_HDR)\n",
    "        plt.show()\n",
    "        "
   ]
  },
  {
   "cell_type": "markdown",
   "id": "6f7ad0ef-bfda-4599-aedb-50c5c7e9a7e3",
   "metadata": {},
   "source": [
    "# 如果录制了暗电流噪声，可以使用完整版本"
   ]
  },
  {
   "cell_type": "code",
   "execution_count": null,
   "id": "24b063df-6ebf-4ebc-99c5-ce6e8ed2a3c8",
   "metadata": {},
   "outputs": [],
   "source": [
    "%autoreload\n",
    "\n",
    "from tianmoucv.isp import vizDiff\n",
    "from tianmoucv.data.denoise_utils import denoise_defualt_args\n",
    "\n",
    "# 用于生成需要的Dark Noise Array\n",
    "dark_noise_path = '/data/lyh/tianmoucData/20240930_tobi_sup_exp/data/tianmouc_dark/dark_gain4'\n",
    "\n",
    "def aop_denoise_arg_generator(dark_noise_path = None):\n",
    "    aop_gain = 4 # 注意这个\n",
    "    aop_denoise_args= denoise_defualt_args()\n",
    "    aop_denoise_args.thr_1=2 * aop_gain\n",
    "    aop_denoise_args.thr_2=5 * aop_gain\n",
    "    aop_denoise_args.thr_3=5 * aop_gain\n",
    "    aop_denoise_args.gain = aop_gain        \n",
    "    dataset_dark = TianmoucDataReader(dark_noise_path,aop_denoise = True)\n",
    "    TD_dark, SDL_dark, SDR_dark = dataset_dark.choose_correct_fpn()\n",
    "    aop_denoise_args.aop_dark_dict = {'TD':TD_dark,'SDL':SDL_dark,'SDR':SDR_dark}\n",
    "    print(len(SDR_dark))\n",
    "    return aop_denoise_args,aop_gain\n",
    "\n",
    "N = 1\n",
    "for key in key_list:\n",
    "    # 开启去噪\n",
    "    aop_denoise_args,aop_gain = aop_denoise_arg_generator(dark_noise_path)\n",
    "    denoised_dataset = TianmoucDataReader(datapath,matchkey=key,\n",
    "                                          aop_denoise = True, \n",
    "                                          aop_denoise_args = aop_denoise_args, \n",
    "                                          camera_idx=0)\n",
    "\n",
    "    print('去噪结果')\n",
    "    for index in range(aim,min(aim+5,len(denoised_dataset))):\n",
    "        sample = denoised_dataset[index]\n",
    "        tsdiff = torch.Tensor(sample['tsdiff'])\n",
    "        length = tsdiff.shape[1]\n",
    "        plt.figure(figsize=(12,2*N))  \n",
    "        for i in range(N):\n",
    "            F = sample['F'+str(i)] #第i帧COP\n",
    "            F_HDR = sample['F'+str(i)+'_HDR'] #第i帧的HDR合成结果\n",
    "            F_HDR[F_HDR>1]=1\n",
    "            F_HDR[F_HDR<0]=0\n",
    "\n",
    "            tsd_rgb = tsdiff[:,12,...].permute(1,2,0)*255\n",
    "            td = tsd_rgb.cpu()[:,:,0]\n",
    "            sd = tsd_rgb.cpu()[:,:,1:]\n",
    "            rgb_sd = vizDiff(sd,thresh=2)\n",
    "            rgb_td = vizDiff(td,thresh=2)\n",
    "            rgb_cat = torch.cat([rgb_sd,rgb_td],dim=1).permute(1,2,0)\n",
    "            \n",
    "            plt.subplot(N,3,1+i*3)\n",
    "            plt.imshow(F)\n",
    "            plt.subplot(N,3,2+i*3)\n",
    "            plt.imshow(rgb_cat) #可视化第0帧，乘个Gain方便看\n",
    "            plt.subplot(N,3,3+i*3)\n",
    "            plt.imshow(F_HDR)\n",
    "        plt.show()\n",
    "        "
   ]
  },
  {
   "cell_type": "code",
   "execution_count": null,
   "id": "d37410e0-fcd5-4477-99ae-54acd6fd01a1",
   "metadata": {},
   "outputs": [],
   "source": []
  }
 ],
 "metadata": {
  "kernelspec": {
   "display_name": "pytorch",
   "language": "python",
   "name": "pytorch"
  },
  "language_info": {
   "codemirror_mode": {
    "name": "ipython",
    "version": 3
   },
   "file_extension": ".py",
   "mimetype": "text/x-python",
   "name": "python",
   "nbconvert_exporter": "python",
   "pygments_lexer": "ipython3",
   "version": "3.12.2"
  }
 },
 "nbformat": 4,
 "nbformat_minor": 5
}
