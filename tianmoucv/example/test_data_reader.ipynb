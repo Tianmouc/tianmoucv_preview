{
 "cells": [
  {
   "cell_type": "code",
   "execution_count": 1,
   "id": "38542132",
   "metadata": {},
   "outputs": [],
   "source": [
    "%load_ext autoreload"
   ]
  },
  {
   "cell_type": "markdown",
   "id": "7892ba1a",
   "metadata": {},
   "source": [
    "# 引入必要的库"
   ]
  },
  {
   "cell_type": "code",
   "execution_count": 2,
   "id": "eee484a9",
   "metadata": {
    "scrolled": true
   },
   "outputs": [
    {
     "name": "stdout",
     "output_type": "stream",
     "text": [
      "import TianmouCV 0.2.2, via Y. Lin, T. Wang  pre release version\n",
      "WARNING: no decoder found, try to compile under ./rod_decoder_py\n",
      "Current Path: /data/lyh/anaconda3/envs/pytorch923/lib/python3.9/site-packages/tianmoucv/rdp_usb\n",
      "/home/lyh/anaconda3/envs/pytorch/bin/python3\n"
     ]
    },
    {
     "ename": "ImportError",
     "evalue": "cannot import name 'rod_decoder_py' from 'tianmoucv.rdp_usb' (/home/lyh/anaconda3/envs/pytorch923/lib/python3.9/site-packages/tianmoucv/rdp_usb/__init__.py)",
     "output_type": "error",
     "traceback": [
      "\u001b[0;31m---------------------------------------------------------------------------\u001b[0m",
      "\u001b[0;31mImportError\u001b[0m                               Traceback (most recent call last)",
      "File \u001b[0;32m~/anaconda3/envs/pytorch923/lib/python3.9/site-packages/tianmoucv/data/tianmoucData.py:9\u001b[0m, in \u001b[0;36m<module>\u001b[0;34m\u001b[0m\n\u001b[1;32m      8\u001b[0m \u001b[38;5;28;01mtry\u001b[39;00m:\n\u001b[0;32m----> 9\u001b[0m     \u001b[38;5;28;01mfrom\u001b[39;00m \u001b[38;5;21;01mtianmoucv\u001b[39;00m\u001b[38;5;21;01m.\u001b[39;00m\u001b[38;5;21;01mrdp_usb\u001b[39;00m \u001b[38;5;28;01mimport\u001b[39;00m rod_decoder_py \u001b[38;5;28;01mas\u001b[39;00m rdc\n\u001b[1;32m     10\u001b[0m \u001b[38;5;28;01mexcept\u001b[39;00m:\n",
      "\u001b[0;31mImportError\u001b[0m: cannot import name 'rod_decoder_py' from 'tianmoucv.rdp_usb' (/home/lyh/anaconda3/envs/pytorch923/lib/python3.9/site-packages/tianmoucv/rdp_usb/__init__.py)",
      "\nDuring handling of the above exception, another exception occurred:\n",
      "\u001b[0;31mImportError\u001b[0m                               Traceback (most recent call last)",
      "Input \u001b[0;32mIn [2]\u001b[0m, in \u001b[0;36m<cell line: 8>\u001b[0;34m()\u001b[0m\n\u001b[1;32m      6\u001b[0m \u001b[38;5;28;01mfrom\u001b[39;00m \u001b[38;5;21;01mtianmoucv\u001b[39;00m\u001b[38;5;21;01m.\u001b[39;00m\u001b[38;5;21;01misp\u001b[39;00m \u001b[38;5;28;01mimport\u001b[39;00m poisson_blend\n\u001b[1;32m      7\u001b[0m \u001b[38;5;28;01mimport\u001b[39;00m \u001b[38;5;21;01mtorch\u001b[39;00m\n\u001b[0;32m----> 8\u001b[0m \u001b[38;5;28;01mfrom\u001b[39;00m \u001b[38;5;21;01mtianmoucv\u001b[39;00m\u001b[38;5;21;01m.\u001b[39;00m\u001b[38;5;21;01mdata\u001b[39;00m \u001b[38;5;28;01mimport\u001b[39;00m TianmoucDataReader\n\u001b[1;32m      9\u001b[0m \u001b[38;5;28;01mimport\u001b[39;00m \u001b[38;5;21;01mtorch\u001b[39;00m\u001b[38;5;21;01m.\u001b[39;00m\u001b[38;5;21;01mnn\u001b[39;00m\u001b[38;5;21;01m.\u001b[39;00m\u001b[38;5;21;01mfunctional\u001b[39;00m \u001b[38;5;28;01mas\u001b[39;00m \u001b[38;5;21;01mF\u001b[39;00m\n\u001b[1;32m     10\u001b[0m \u001b[38;5;28;01mimport\u001b[39;00m \u001b[38;5;21;01mcv2\u001b[39;00m\n",
      "File \u001b[0;32m~/anaconda3/envs/pytorch923/lib/python3.9/site-packages/tianmoucv/data/__init__.py:1\u001b[0m, in \u001b[0;36m<module>\u001b[0;34m\u001b[0m\n\u001b[0;32m----> 1\u001b[0m \u001b[38;5;28;01mfrom\u001b[39;00m \u001b[38;5;21;01m.\u001b[39;00m\u001b[38;5;21;01mtianmoucData\u001b[39;00m \u001b[38;5;28;01mimport\u001b[39;00m TianmoucDataReader\n",
      "File \u001b[0;32m~/anaconda3/envs/pytorch923/lib/python3.9/site-packages/tianmoucv/data/tianmoucData.py:19\u001b[0m, in \u001b[0;36m<module>\u001b[0;34m\u001b[0m\n\u001b[1;32m     17\u001b[0m     \u001b[38;5;28mprint\u001b[39m(\u001b[38;5;124m\"\u001b[39m\u001b[38;5;124mCurrent Path:\u001b[39m\u001b[38;5;124m\"\u001b[39m, current_path)\n\u001b[1;32m     18\u001b[0m     subprocess\u001b[38;5;241m.\u001b[39mrun([\u001b[38;5;124m'\u001b[39m\u001b[38;5;124msh\u001b[39m\u001b[38;5;124m'\u001b[39m, \u001b[38;5;124m'\u001b[39m\u001b[38;5;124m./compile_pybind.sh\u001b[39m\u001b[38;5;124m'\u001b[39m])\n\u001b[0;32m---> 19\u001b[0m     \u001b[38;5;28;01mfrom\u001b[39;00m \u001b[38;5;21;01mtianmoucv\u001b[39;00m\u001b[38;5;21;01m.\u001b[39;00m\u001b[38;5;21;01mrdp_usb\u001b[39;00m \u001b[38;5;28;01mimport\u001b[39;00m rod_decoder_py \u001b[38;5;28;01mas\u001b[39;00m rdc\n\u001b[1;32m     20\u001b[0m     \u001b[38;5;28mprint\u001b[39m(\u001b[38;5;124m'\u001b[39m\u001b[38;5;124mcompile decoder successfully\u001b[39m\u001b[38;5;124m'\u001b[39m)\n\u001b[1;32m     23\u001b[0m \u001b[38;5;66;03m#用于重建\u001b[39;00m\n",
      "\u001b[0;31mImportError\u001b[0m: cannot import name 'rod_decoder_py' from 'tianmoucv.rdp_usb' (/home/lyh/anaconda3/envs/pytorch923/lib/python3.9/site-packages/tianmoucv/rdp_usb/__init__.py)"
     ]
    }
   ],
   "source": [
    "%autoreload\n",
    "import sys,os\n",
    "import numpy as np\n",
    "import matplotlib.pyplot as plt\n",
    "from tianmoucv.isp import fourdirection2xy\n",
    "from tianmoucv.isp import poisson_blend\n",
    "import torch\n",
    "from tianmoucv.data import TianmoucDataReader\n",
    "import torch.nn.functional as F\n",
    "import cv2\n",
    "\n",
    "train='/data/lyh/tianmoucData/tianmoucReconDataset/train/'\n",
    "dirlist = os.listdir(train)\n",
    "traindata = [train + e for e in dirlist]\n",
    "\n",
    "val='/data/lyh/tianmoucData/tianmoucReconDataset/test/'\n",
    "vallist = os.listdir(val)\n",
    "valdata = [val + e for e in vallist]\n",
    "key_list = []\n",
    "\n",
    "print('---------------------------------------------------')\n",
    "for sampleset in traindata:\n",
    "    print('---->',sampleset,'有：',len(os.listdir(sampleset)),'个样本')\n",
    "    for e in os.listdir(sampleset):\n",
    "        print(e)\n",
    "        key_list.append(e)\n",
    "print('---------------------------------------------------')\n",
    "for sampleset in valdata:\n",
    "    print('---->',sampleset,'有：',len(os.listdir(sampleset)),'个样本')\n",
    "    for e in os.listdir(sampleset):\n",
    "        print(e)\n",
    "        key_list.append(e)\n",
    "        \n"
   ]
  },
  {
   "cell_type": "code",
   "execution_count": null,
   "id": "ee4b483f-487e-4316-b716-8b054054e345",
   "metadata": {},
   "outputs": [],
   "source": [
    "!which python"
   ]
  },
  {
   "cell_type": "markdown",
   "id": "b97f2600",
   "metadata": {},
   "source": [
    "# 读取单目数据\n",
    "\n",
    "- 设置N：一个sampple中有连续几帧，默认N=1, 输出1帧RGB with M AOP\n",
    "- 设置Match Key，否则会读出所有数据\n",
    "- camera_idx默认为0，表示识别单目数据"
   ]
  },
  {
   "cell_type": "code",
   "execution_count": null,
   "id": "b8116563",
   "metadata": {},
   "outputs": [],
   "source": [
    "%autoreload\n",
    "import sys,os\n",
    "import numpy as np\n",
    "import torch\n",
    "import torch.nn.functional as F\n",
    "import cv2\n",
    "import math,time\n",
    "import matplotlib.pyplot as plt\n",
    "\n",
    "from tianmoucv.isp import fourdirection2xy\n",
    "\n",
    "aim = 4\n",
    "N = 3   # read continue N frames\n",
    "\n",
    "#这两种形式都可以，也可以直接输入string\n",
    "datapath = [train,val]\n",
    "datapath = traindata + valdata\n",
    "\n",
    "for key in key_list:\n",
    "    dataset = TianmoucDataReader(datapath,N=N,matchkey=key,camera_idx=0)\n",
    "    img_list = []\n",
    "    for index in range(aim,min(aim+1,len(dataset))):\n",
    "        sample = dataset[index]\n",
    "        tsdiff = torch.Tensor(sample['tsdiff'])\n",
    "        length = tsdiff.shape[1]\n",
    "        print('一次性读出N:',N,'个RGB帧以及与其同步的AOP')\n",
    "        gap = length//(N+1)\n",
    "        plt.figure(figsize=(12,2*N))  \n",
    "        for i in range(N):\n",
    "            F = sample['F'+str(i)]\n",
    "            F_HDR = sample['F'+str(i)+'_HDR']\n",
    "            F_HDR[F_HDR>1]=1\n",
    "            F_HDR[F_HDR<0]=0\n",
    "            plt.subplot(N,3,1+i*3)\n",
    "            plt.imshow(F)\n",
    "            plt.subplot(N,3,2+i*3)\n",
    "            plt.imshow(tsdiff[:,i*gap,...].permute(1,2,0)*16)\n",
    "            plt.subplot(N,3,3+i*3)\n",
    "            plt.imshow(F_HDR)\n",
    "        plt.show()\n",
    "    break"
   ]
  },
  {
   "cell_type": "markdown",
   "id": "1d1c8882",
   "metadata": {},
   "source": [
    "# 读取多目数据\n",
    "- 可以使用系统时间戳对齐\n",
    "- 注意设置相机序号，从0开始"
   ]
  },
  {
   "cell_type": "code",
   "execution_count": null,
   "id": "dc0c7ff9",
   "metadata": {},
   "outputs": [],
   "source": [
    "%autoreload\n",
    "import sys,os\n",
    "import numpy as np\n",
    "import torch\n",
    "import torch.nn.functional as F\n",
    "import cv2\n",
    "import math,time\n",
    "import matplotlib.pyplot as plt\n",
    "\n",
    "from tianmoucv.isp import fourdirection2xy\n",
    "\n",
    "aim = 4\n",
    "N = 3   # read continue N frames\n",
    "\n",
    "dataset_top = '/data/yuguo/dataset/checkerboard_20240202'\n",
    "key='test10'\n",
    "dataset_0 = TianmoucDataReader(dataset_top,N=N,matchkey=key,camera_idx=0) #index0: rod\n",
    "dataset_1 = TianmoucDataReader(dataset_top,N=N,matchkey=key,camera_idx=1) #index1: rod_1\n",
    "\n",
    "#随便读一个sample，把里面的sysTimeStamp拿出来\n",
    "sample_l = dataset_0[0]\n",
    "sample_r = dataset_1[0]\n",
    "ts1 = sample_l['sysTimeStamp']\n",
    "ts2 = sample_r['sysTimeStamp']\n",
    "index_bias = (ts2-ts1)/1000.0/33\n",
    "print(ts1,ts2,'两相机的时间差:',(ts2-ts1)/1000.0,'ms,对应的index 之差为:',index_bias)\n",
    "#然后怎么处理都行\n",
    "\n",
    "img_list = []\n",
    "for index in range(aim,min(aim+1,len(dataset))):\n",
    "    sample_l = dataset_0[index]\n",
    "    sample_r = dataset_1[index]\n",
    "    \n",
    "    tsdiff = torch.Tensor(sample_l['tsdiff'])\n",
    "    length = tsdiff.shape[1]\n",
    "    print('一次性读出N:',N,'个RGB帧以及与其同步的AOP')\n",
    "    gap = length//(N+1)\n",
    "    plt.figure(figsize=(12,2*N))  \n",
    "    for i in range(N):\n",
    "        F = sample_l['F'+str(i)]\n",
    "        F_HDR = sample_l['F'+str(i)+'_HDR']\n",
    "        F_HDR[F_HDR>1]=1\n",
    "        F_HDR[F_HDR<0]=0\n",
    "        plt.subplot(N,6,1+i*6)\n",
    "        plt.imshow(F)\n",
    "        plt.subplot(N,6,2+i*6)\n",
    "        plt.imshow(tsdiff[:,i*gap,...].permute(1,2,0)*16)\n",
    "        plt.subplot(N,6,3+i*6)\n",
    "        plt.imshow(F_HDR)\n",
    "\n",
    "    tsdiff = torch.Tensor(sample_r['tsdiff'])\n",
    "    length = tsdiff.shape[1]\n",
    "    print('一次性读出N:',N,'个RGB帧以及与其同步的AOP')\n",
    "    gap = length//(N+1)\n",
    "    for i in range(N):\n",
    "        F = sample_r['F'+str(i)]\n",
    "        F_HDR = sample_r['F'+str(i)+'_HDR']\n",
    "        F_HDR[F_HDR>1]=1\n",
    "        F_HDR[F_HDR<0]=0\n",
    "        plt.subplot(N,6,4+i*6)\n",
    "        plt.imshow(F)\n",
    "        plt.subplot(N,6,5+i*6)\n",
    "        plt.imshow(tsdiff[:,i*gap,...].permute(1,2,0)*16)\n",
    "        plt.subplot(N,6,6+i*6)\n",
    "        plt.imshow(F_HDR)\n",
    "        \n",
    "    plt.show()\n"
   ]
  },
  {
   "cell_type": "code",
   "execution_count": null,
   "id": "9271ea60",
   "metadata": {},
   "outputs": [],
   "source": []
  }
 ],
 "metadata": {
  "kernelspec": {
   "display_name": "pytorch923",
   "language": "python",
   "name": "pytorch923"
  },
  "language_info": {
   "codemirror_mode": {
    "name": "ipython",
    "version": 3
   },
   "file_extension": ".py",
   "mimetype": "text/x-python",
   "name": "python",
   "nbconvert_exporter": "python",
   "pygments_lexer": "ipython3",
   "version": "3.9.12"
  }
 },
 "nbformat": 4,
 "nbformat_minor": 5
}
