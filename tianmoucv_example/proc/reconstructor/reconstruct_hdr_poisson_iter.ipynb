{
 "cells": [
  {
   "cell_type": "markdown",
   "id": "4ba600db-1180-495d-9031-241a42a5c42c",
   "metadata": {},
   "source": [
    "# HDR单帧合成(泊松融合-依赖雅可比迭代）\n",
    "\n",
    "## 这个示例展示如何使用一个简单的算法合成HDR效果\n",
    "调用接口：\n",
    "-  tianmoucv.proc.reconstruct.laplacian_blending"
   ]
  },
  {
   "cell_type": "code",
   "execution_count": null,
   "id": "a1d06907",
   "metadata": {},
   "outputs": [],
   "source": [
    "%load_ext autoreload"
   ]
  },
  {
   "cell_type": "markdown",
   "id": "8e748394",
   "metadata": {},
   "source": [
    "# 引入必要的库"
   ]
  },
  {
   "cell_type": "code",
   "execution_count": null,
   "id": "21333d42",
   "metadata": {
    "scrolled": true
   },
   "outputs": [],
   "source": [
    "%autoreload\n",
    "from IPython.display import clear_output\n",
    "import sys,os,cv2,torch\n",
    "import torch.nn.functional as F\n",
    "import numpy as np\n",
    "import matplotlib.pyplot as plt\n",
    "\n",
    "from tianmoucv.isp import SD2XY\n",
    "from tianmoucv.proc.reconstruct import poisson_blending\n",
    "from tianmoucv.data import TianmoucDataReader"
   ]
  },
  {
   "cell_type": "markdown",
   "id": "f96596cf-5785-433b-9df8-78ffd3ab1235",
   "metadata": {},
   "source": [
    "## 数据读取"
   ]
  },
  {
   "cell_type": "code",
   "execution_count": null,
   "id": "2e0abeb3-6402-4acc-82b7-9bd214b83358",
   "metadata": {},
   "outputs": [],
   "source": [
    "train='/data/tianmoucData/tianmoucReconDataset/train/'\n",
    "dirlist = os.listdir(train)\n",
    "traindata = [train + e for e in dirlist]\n",
    "val='/data/tianmoucData/tianmoucReconDataset/test/'\n",
    "vallist = os.listdir(val)\n",
    "valdata = [val + e for e in vallist]\n",
    "\n",
    "key_list = [] #包含所有sample名作为匹配关键词\n",
    "for sampleset in valdata:\n",
    "    print(' ')\n",
    "    print('---->',sampleset,'有：',len(os.listdir(sampleset)),'个样本--------------------')\n",
    "    for e in os.listdir(sampleset):\n",
    "        print(e,end=\" \")\n",
    "        key_list.append(e)\n",
    "for sampleset in traindata:\n",
    "    print(' ')\n",
    "    print('---->',sampleset,'有：',len(os.listdir(sampleset)),'个样本--------------------')\n",
    "    for e in os.listdir(sampleset):\n",
    "        print(e,end=\" \")\n",
    "        key_list.append(e)     \n",
    "        \n",
    "all_data = valdata + traindata #包含所有数据的父路径的列表"
   ]
  },
  {
   "cell_type": "markdown",
   "id": "78554556",
   "metadata": {},
   "source": [
    "## 融合图像"
   ]
  },
  {
   "cell_type": "code",
   "execution_count": null,
   "id": "7524b1de",
   "metadata": {},
   "outputs": [],
   "source": [
    "%autoreload\n",
    "import torch.nn as nn\n",
    "import math\n",
    "import time\n",
    "\n",
    "def images_to_video(frame_list,name,size=(640,320),Flip=False):\n",
    "    fps = 25        \n",
    "    ftmax = max([np.max(ft) for ft in frame_list])\n",
    "    ftmin = min([np.min(ft) for ft in frame_list])\n",
    "    out = cv2.VideoWriter(name,0x7634706d , fps, size)\n",
    "    for ft in frame_list:\n",
    "        ft = (ft-ftmin)/(ftmax-ftmin)\n",
    "        ft2 = (ft*255).astype(np.uint8)\n",
    "        out.write(ft2)\n",
    "    out.release()\n",
    "\n",
    "psnrcount =0\n",
    "count = 0\n",
    "key_list = ['test_tunnel7_hdr_ae']\n",
    "\n",
    "for key in key_list:\n",
    "    dataset = TianmoucDataReader(all_data,MAXLEN=500,matchkey=key)\n",
    "    dataLoader = torch.utils.data.DataLoader(dataset, batch_size=1,\\\n",
    "                                          num_workers=4, pin_memory=False, drop_last = False)\n",
    "    PSNR = 0\n",
    "    img_list = []\n",
    "    for index,sample in enumerate(dataLoader,0):\n",
    "        if index<0:\n",
    "            continue\n",
    "        if index<= 20:\n",
    "            psnrcount += 1\n",
    "            F0 = sample['F0'][0,...]\n",
    "            F_HDR = sample['F0_HDR'][0,...]\n",
    "            raw_F0 = F0.clone()\n",
    "            #只有第0针可以合成\n",
    "            for t in [0]:\n",
    "                clear_output()\n",
    "                tsdiff = sample['rawDiff'][0,...]/128.0        \n",
    "                SD = tsdiff[1:,t,...].permute(1,2,0)\n",
    "                Ix,Iy= SD2XY(SD)\n",
    "                Ix = F.interpolate(torch.Tensor(Ix).unsqueeze(0).unsqueeze(0), size=(320,640), mode='bilinear').squeeze(0).squeeze(0)\n",
    "                Iy = F.interpolate(torch.Tensor(Iy).unsqueeze(0).unsqueeze(0), size=(320,640), mode='bilinear').squeeze(0).squeeze(0)\n",
    "                blend_hdr = poisson_blending(Ix,Iy, srcimg= F0,iteration=20, mask_rgb=True,mask_th=36)\n",
    "                blend_hdr_more_sd = poisson_blending(Ix,Iy, srcimg= F0,iteration=20, mask_rgb=True,mask_th=48)#更激进的参数\n",
    "                show = torch.cat([raw_F0,blend_hdr],dim=0)\n",
    "                img_list.append(show.numpy()[...,[2,1,0]])\n",
    "            \n",
    "            plt.figure(figsize=(12,6))\n",
    "            plt.subplot(1,3,1)  \n",
    "            plt.imshow(F0)\n",
    "            plt.subplot(1,3,2)  \n",
    "            plt.imshow(blend_hdr)\n",
    "            plt.subplot(1,3,3)  \n",
    "            plt.imshow(blend_hdr_more_sd)\n",
    "            plt.show()\n",
    "            break\n",
    "        else:\n",
    "            break"
   ]
  },
  {
   "cell_type": "code",
   "execution_count": null,
   "id": "ee2fcb1b-4f6a-42c2-ae2c-d2ddb44d3cbd",
   "metadata": {},
   "outputs": [],
   "source": [
    "images_to_video(img_list,size=(640,640),name='./Direct_'+key+'.mp4')"
   ]
  }
 ],
 "metadata": {
  "kernelspec": {
   "display_name": "Python 3 (ipykernel)",
   "language": "python",
   "name": "python3"
  },
  "language_info": {
   "codemirror_mode": {
    "name": "ipython",
    "version": 3
   },
   "file_extension": ".py",
   "mimetype": "text/x-python",
   "name": "python",
   "nbconvert_exporter": "python",
   "pygments_lexer": "ipython3",
   "version": "3.12.2"
  }
 },
 "nbformat": 4,
 "nbformat_minor": 5
}
