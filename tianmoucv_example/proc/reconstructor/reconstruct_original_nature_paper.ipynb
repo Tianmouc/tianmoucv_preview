{
 "cells": [
  {
   "cell_type": "markdown",
   "id": "9cb45565-1a85-4e91-b67c-8d0b6a27798c",
   "metadata": {},
   "source": [
    "# Reconstructor UNet in 《A vision chip with complementary pathways or open-world sensing》\n",
    "\n",
    "## 展示该论文所用的初版重建算法，以及SD增强HDR\n",
    "\n",
    "调用接口：\n",
    "- tianmoucv.proc.reconstruct.TianmoucRecon_Original\n"
   ]
  },
  {
   "cell_type": "code",
   "execution_count": null,
   "id": "3df5cec2",
   "metadata": {},
   "outputs": [],
   "source": [
    "%load_ext autoreload"
   ]
  },
  {
   "cell_type": "markdown",
   "id": "c42d0632",
   "metadata": {},
   "source": [
    "## 引入必要的库"
   ]
  },
  {
   "cell_type": "code",
   "execution_count": null,
   "id": "418856d0",
   "metadata": {
    "scrolled": true
   },
   "outputs": [],
   "source": [
    "%autoreload\n",
    "import sys,os, math,time\n",
    "import numpy as np\n",
    "import matplotlib.pyplot as plt\n",
    "import torch\n",
    "import torch.nn as nn\n",
    "from tianmoucv.data import TianmoucDataReader\n",
    "import torch.nn.functional as F\n",
    "import cv2"
   ]
  },
  {
   "cell_type": "markdown",
   "id": "39a144b3-4fa6-4b43-aa1a-4d4ef53c2600",
   "metadata": {},
   "source": [
    "## 准备数据"
   ]
  },
  {
   "cell_type": "code",
   "execution_count": null,
   "id": "c12f4e38-5ac5-4a16-af47-45c3b783dea7",
   "metadata": {},
   "outputs": [],
   "source": [
    "all_data = '/home/lyh/tunnel9_hdr'\n",
    "key_list = ['tunnel9_hdr']"
   ]
  },
  {
   "cell_type": "markdown",
   "id": "6469ef63-8d1d-4cf9-9c27-f9218385d13b",
   "metadata": {},
   "source": [
    "## 引入网络"
   ]
  },
  {
   "cell_type": "code",
   "execution_count": null,
   "id": "2d0bdaa6",
   "metadata": {
    "scrolled": true
   },
   "outputs": [],
   "source": [
    "%autoreload\n",
    "from tianmoucv.proc.reconstruct import TianmoucRecon_Original\n",
    "device = torch.device('cuda:1')\n",
    "reconstructor = TianmoucRecon_Original(ckpt_path=None,_optim=False).to(device)#有合适的环境可以开pytorch优化"
   ]
  },
  {
   "cell_type": "markdown",
   "id": "14d549e2",
   "metadata": {},
   "source": [
    "# 融合图像"
   ]
  },
  {
   "cell_type": "code",
   "execution_count": null,
   "id": "5f1a5d18",
   "metadata": {},
   "outputs": [],
   "source": [
    "%autoreload\n",
    "import torch.nn as nn\n",
    "import math,time\n",
    "from tianmoucv.isp import vizDiff\n",
    "import torch.nn.functional as F\n",
    "from IPython.display import clear_output\n",
    "from tianmoucv.isp import SD2XY\n",
    "from tianmoucv.proc.reconstruct import poisson_blending\n",
    "\n",
    "def images_to_video(frame_list,name,size=(640,320),Flip=True):\n",
    "    fps = 30        \n",
    "    ftmax = 1\n",
    "    ftmin = 0\n",
    "    out = cv2.VideoWriter(name,0x7634706d , fps, size)\n",
    "    output_folder = name.split('.')[0]\n",
    "    count = 0\n",
    "    if not os.path.exists(output_folder):\n",
    "        os.mkdir(output_folder)\n",
    "    for ft in frame_list:\n",
    "        ft = (ft-ftmin)/(ftmax-ftmin)\n",
    "        ft[ft>1]=1\n",
    "        ft[ft<0]=0\n",
    "        ft2 = (ft*255).astype(np.uint8)\n",
    "        out.write(ft2)\n",
    "        count += 1\n",
    "        filename = f\"{count:06d}.png\"\n",
    "        file_path = os.path.join(output_folder, filename)\n",
    "        cv2.imwrite(file_path, ft2)\n",
    "    out.release()\n",
    "\n",
    "\n",
    "w = 640\n",
    "h = 320\n",
    "\n",
    "for key in key_list:\n",
    "    dataset = TianmoucDataReader(all_data,MAXLEN=500,matchkey=key)\n",
    "    dataLoader = torch.utils.data.DataLoader(dataset, batch_size=1,\\\n",
    "                                          num_workers=4, pin_memory=False, drop_last = False)\n",
    "    img_list = []\n",
    "    count = 0\n",
    "    for index,sample in enumerate(dataLoader,0):\n",
    "        if index<= 10:\n",
    "            # 用于可视化 提前裁切\n",
    "            F0 = sample['F0'][0,...].clone()\n",
    "            biasw = (F0.shape[1]-w)//2\n",
    "            biash = (F0.shape[0]-h)//2\n",
    "            tsdiff = sample['tsdiff'][0,...][biash:h+biash,biasw:w+biasw,:]\n",
    "            #sample['tsdiff'] *= 0\n",
    "            F0 = F0[biash:h+biash,biasw:w+biasw,:]\n",
    "            \n",
    "            #channel放到第1维用于推理\n",
    "            sample['F0'] = sample['F0'].permute(0,3,1,2)\n",
    "            sample['F1'] = sample['F1'].permute(0,3,1,2)\n",
    "            \n",
    "            '''\n",
    "            输入简单处理过的数据包\n",
    "            输出这个数据包重建的所有帧\n",
    "            F0，F1：0~1\n",
    "            tsdiff：-1~1\n",
    "            ifSingleDirection：是否双向重建取平均\n",
    "            w,h: 感兴趣的区域，设置成F0大小则为全图重建\n",
    "            bs：推理的批大小，显存不够可以设小一些，显存够推荐用26\n",
    "            '''\n",
    "            reconstructed_b = reconstructor(sample, \n",
    "                                            bs=26, \n",
    "                                            h=h, \n",
    "                                            w=w).float()\n",
    "            \n",
    "            timelen = reconstructed_b.shape[0]\n",
    "            #最后一帧可以扔掉，或者跟下一次的重建的第0帧做个平均，降低一些闪烁感\n",
    "            for t in range(timelen-1):\n",
    "\n",
    "                tsd_rgb = tsdiff[:,t,...].permute(1,2,0)*64\n",
    "                td = tsd_rgb.cpu()[:,:,0]\n",
    "                sd = tsd_rgb.cpu()[:,:,1:]\n",
    "                rgb_sd = vizDiff(sd[...,0],thresh=1)\n",
    "                rgb_td = vizDiff(td,thresh=1)\n",
    "\n",
    "                rawDiff = sample['rawDiff'][0,:,t,...].cpu().permute(1,2,0)\n",
    "                sd = rawDiff.cpu()[:,:,1:]\n",
    "                Ix,Iy= SD2XY(sd)\n",
    "                gray = poisson_blending(Ix,Iy,iteration=20)\n",
    "                gray = torch.stack([gray]*3,dim=0) \n",
    "                gray = F.interpolate(gray.unsqueeze(0), size=(320,640), mode='bilinear').squeeze(0).permute(1,2,0)\n",
    "                gray = (gray-torch.min(gray))/(torch.max(gray)-torch.min(gray))\n",
    "\n",
    "                rgb_cat = torch.cat([rgb_sd,gray],dim=0).permute(2,0,1)\n",
    "                rgb_tsd = F.interpolate(rgb_cat.unsqueeze(0), scale_factor=0.5, mode='bilinear', align_corners=True).squeeze(0).permute(1,2,0)\n",
    "\n",
    "                reconstructed = reconstructed_b[t,...].cpu().permute(1,2,0)\n",
    "\n",
    "                Ix = F.interpolate(Ix.unsqueeze(0).unsqueeze(0), size=(320,640), mode='bilinear').squeeze(0).squeeze(0)/128\n",
    "                Iy = F.interpolate(Iy.unsqueeze(0).unsqueeze(0), size=(320,640), mode='bilinear').squeeze(0).squeeze(0)/128\n",
    "\n",
    "                reconstructed = poisson_blending(Ix,Iy, srcimg= reconstructed,iteration=20, mask_rgb=True,mask_th=36)\n",
    "\n",
    "                            \n",
    "                showim = torch.cat([F0,rgb_tsd,reconstructed],dim=1).numpy()\n",
    "\n",
    "                cv2.putText(showim,\"e-GT:\"+str(t),(int(w*1.5)+12,36),cv2.FONT_HERSHEY_SIMPLEX,0.75,(0,0,0),2)\n",
    "                cv2.putText(showim,\"SD:\"+str(t),(int(w)+12,24),cv2.FONT_HERSHEY_SIMPLEX,0.6,(0,0,0),2)\n",
    "                cv2.putText(showim,\"gray:\"+str(t),(int(w)+12,160+24),cv2.FONT_HERSHEY_SIMPLEX,0.6,(0,0,0),2)\n",
    "                cv2.putText(showim,\"COP id:\"+str(index),(12,36),cv2.FONT_HERSHEY_SIMPLEX,0.75,(0,0,0),2)\n",
    "        \n",
    "                if t==12:\n",
    "                    clear_output()\n",
    "                    plt.figure(figsize=(8,3))\n",
    "                    plt.subplot(1,1,1)  \n",
    "                    plt.imshow(showim)\n",
    "                    plt.show()\n",
    "                img_list.append(showim[...,[2,1,0]])\n",
    "        else:\n",
    "            break"
   ]
  },
  {
   "cell_type": "code",
   "execution_count": null,
   "id": "543504d6-41a6-4451-8229-649939c65927",
   "metadata": {},
   "outputs": [],
   "source": [
    "images_to_video(img_list,'has_sd_'+key+'.mp4',size=(640*2+320,320),Flip=True)"
   ]
  },
  {
   "cell_type": "code",
   "execution_count": null,
   "id": "32821623-c35b-4441-8043-e41a520b06f4",
   "metadata": {},
   "outputs": [],
   "source": []
  }
 ],
 "metadata": {
  "kernelspec": {
   "display_name": "Python 3 (ipykernel)",
   "language": "python",
   "name": "python3"
  },
  "language_info": {
   "codemirror_mode": {
    "name": "ipython",
    "version": 3
   },
   "file_extension": ".py",
   "mimetype": "text/x-python",
   "name": "python",
   "nbconvert_exporter": "python",
   "pygments_lexer": "ipython3",
   "version": "3.10.13"
  }
 },
 "nbformat": 4,
 "nbformat_minor": 5
}
