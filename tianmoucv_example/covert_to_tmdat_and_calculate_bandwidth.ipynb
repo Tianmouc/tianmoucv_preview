{
 "cells": [
  {
   "cell_type": "markdown",
   "id": "d8608d0c-6340-42e9-934d-f111e4494b11",
   "metadata": {},
   "source": [
    "# 转换任意符合格式的数据到tmdat"
   ]
  },
  {
   "cell_type": "code",
   "execution_count": null,
   "id": "f72f6e8b-1952-41fc-be4b-d327ed194598",
   "metadata": {},
   "outputs": [],
   "source": [
    "%load_ext autoreload"
   ]
  },
  {
   "cell_type": "code",
   "execution_count": null,
   "id": "fe57f1a5-a841-4f49-9898-119475f9d4c0",
   "metadata": {
    "scrolled": true
   },
   "outputs": [],
   "source": [
    "!ls '/data/lyh/tianmoucData/tianmoucReconDataset_0701new/train/extreme/'"
   ]
  },
  {
   "cell_type": "markdown",
   "id": "50af647c-a982-4e37-ba95-3a26b5be99b4",
   "metadata": {},
   "source": [
    "# 从tmdat读取一些数据做演示\n",
    "\n",
    "- 你也可以用其他传感器或者仿真器读出来的数据"
   ]
  },
  {
   "cell_type": "code",
   "execution_count": null,
   "id": "1764da16-103c-4429-aa93-1ff71abe26c6",
   "metadata": {},
   "outputs": [],
   "source": [
    "%autoreload\n",
    "import numpy as np\n",
    "import matplotlib.pyplot as plt\n",
    "from tianmoucv.data import TianmoucDataReader\n",
    "\n",
    "data_path = '/data/lyh/tianmoucData/tianmoucReconDataset_0701new/train/extreme/HDR_train_tunnel1_hdr_blur'\n",
    "dataset = TianmoucDataReader(data_path)\n",
    "\n",
    "sample_0 = dataset[0]\n",
    "sample_1 = dataset[1]\n",
    "\n",
    "print('F0 Raw:',sample_0['F0_raw'].shape,sample_0['F0_raw'].type())\n",
    "print('F1 Raw:',sample_0['F1_raw'].shape,sample_0['F0_raw'].type())\n",
    "print('tsdiff Raw:',sample_1['rawDiff'].shape,sample_0['rawDiff'].type())\n",
    "\n",
    "#打包10个完整周期\n",
    "Len = 10\n",
    "cone_list = []\n",
    "rod_list = []\n",
    "\n",
    "for i in range(Len):\n",
    "    cone_list.append(dataset[i]['F0_raw'].numpy().astype(np.uint32))\n",
    "for i in range(Len):  \n",
    "    for t in range(dataset[i]['rawDiff'].shape[1]-1):\n",
    "        rod_list.append(dataset[i]['rawDiff'][:,t,:,:].permute(1,2,0).numpy().astype(np.uint8))"
   ]
  },
  {
   "cell_type": "markdown",
   "id": "2209a1ef-1b51-4c34-8e86-818617a2ab1c",
   "metadata": {},
   "source": [
    "# 调用转换接口转存到tmdat"
   ]
  },
  {
   "cell_type": "code",
   "execution_count": null,
   "id": "542b9d5b-3eb5-44d1-ae8b-07a9ff5f530c",
   "metadata": {},
   "outputs": [],
   "source": [
    "%autoreload\n",
    "from collections import defaultdict\n",
    "import numpy as np\n",
    "import os\n",
    "import struct\n",
    "import cv2,sys\n",
    "import os\n",
    "from tianmoucv.rdp_usb import covert_to_tmdat\n",
    "\n",
    "output_path = \"/data/lyh/test_encode\"\n",
    "output_bandwidth_info = covert_to_tmdat(cone_list,rod_list,\n",
    "                   output_path,\n",
    "                   mode = 0, \n",
    "                   rod_adcprec = 8,\n",
    "                   if_output=True)\n",
    "'''\n",
    "mode:0 并口 1串口 0慢一倍, \n",
    "    例: 757fps是0， 1515fps是1  1515@4bit是0\n",
    "sample_list: 包含['cone']和['rod_list']的字典\n",
    "        cone是uint32的320*320\n",
    "        rod是uint8的 T 长度的list，每个rod为160*160*3，td，sdl，sdr布局\n",
    "'''\n",
    "\n",
    "# 以字节为单位的体积和带宽数据\n",
    "print(output_bandwidth_info)"
   ]
  },
  {
   "cell_type": "markdown",
   "id": "510ea0a7-5366-4123-a5b4-6067127b98be",
   "metadata": {},
   "source": [
    "# 检查，对比转换前后的数据差异"
   ]
  },
  {
   "cell_type": "code",
   "execution_count": null,
   "id": "7ea1f0cd-e102-4742-8d4d-eda01ae7dc42",
   "metadata": {},
   "outputs": [],
   "source": [
    "from tianmoucv.isp import vizDiff\n",
    "import torch\n",
    "\n",
    "aim = 4 # 读取的目标COP帧的帧号\n",
    "N = 1   # read continue N frames （连续读取N帧COP以及对应的AOP）\n",
    "\n",
    "dataset = TianmoucDataReader(data_path)\n",
    "for index in range(aim,min(aim+1,len(dataset))):\n",
    "    sample = dataset[index]\n",
    "    tsdiff = torch.Tensor(sample['tsdiff'])\n",
    "    length = tsdiff.shape[1]\n",
    "    dataRatio = sample['dataRatio']\n",
    "    print(sample['meta'])\n",
    "    plt.figure(figsize=(12,6))  \n",
    "    for i in range(N):\n",
    "        F = sample['F'+str(i)].numpy()\n",
    "        F_HDR = sample['F'+str(i)+'_HDR'].numpy()\n",
    "        F_HDR[F_HDR>1]=1\n",
    "        F_HDR[F_HDR<0]=0\n",
    "        plt.subplot(N,6,1+i*6)\n",
    "        plt.imshow(F)\n",
    "        plt.subplot(N,6,2+i*6)\n",
    "        plt.imshow(tsdiff[:,i*dataRatio,...].permute(1,2,0)*16)\n",
    "        plt.subplot(N,6,3+i*6)\n",
    "        plt.imshow(F_HDR)\n",
    "        plt.show()\n",
    "    break\n",
    "\n",
    "dataset = TianmoucDataReader(output_path,strict=False)\n",
    "for index in range(aim,min(aim+1,len(dataset))):\n",
    "    sample = dataset[index]\n",
    "    tsdiff = torch.Tensor(sample['tsdiff'])\n",
    "    length = tsdiff.shape[1]\n",
    "    dataRatio = sample['dataRatio']\n",
    "    print(sample['meta'])\n",
    "    plt.figure(figsize=(12,6))  \n",
    "    for i in range(N):\n",
    "        F = sample['F'+str(i)].numpy()\n",
    "        F_HDR = sample['F'+str(i)+'_HDR'].numpy()\n",
    "        F_HDR[F_HDR>1]=1\n",
    "        F_HDR[F_HDR<0]=0\n",
    "        plt.subplot(N,6,1+i*6)\n",
    "        plt.imshow(F)\n",
    "        plt.subplot(N,6,2+i*6)\n",
    "        plt.imshow(tsdiff[:,i*dataRatio,...].permute(1,2,0)*16)\n",
    "        plt.subplot(N,6,3+i*6)\n",
    "        plt.imshow(F_HDR)\n",
    "        plt.show()\n",
    "    break"
   ]
  },
  {
   "cell_type": "code",
   "execution_count": null,
   "id": "4eb94b57-a52d-41c6-8f00-46348942e4f5",
   "metadata": {},
   "outputs": [],
   "source": []
  }
 ],
 "metadata": {
  "kernelspec": {
   "display_name": "pytorch",
   "language": "python",
   "name": "pytorch"
  },
  "language_info": {
   "codemirror_mode": {
    "name": "ipython",
    "version": 3
   },
   "file_extension": ".py",
   "mimetype": "text/x-python",
   "name": "python",
   "nbconvert_exporter": "python",
   "pygments_lexer": "ipython3",
   "version": "3.12.2"
  }
 },
 "nbformat": 4,
 "nbformat_minor": 5
}
